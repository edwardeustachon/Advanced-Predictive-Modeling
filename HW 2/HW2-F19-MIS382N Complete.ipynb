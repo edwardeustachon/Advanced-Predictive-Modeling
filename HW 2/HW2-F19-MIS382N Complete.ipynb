{
 "cells": [
  {
   "cell_type": "markdown",
   "metadata": {},
   "source": [
    "\n",
    "# <p style=\"text-align: center;\">MIS 382N: ADVANCED PREDICTIVE MODELING - MSBA</p>\n",
    "# <p style=\"text-align: center;\">Assignment 2</p>\n",
    "## <p style=\"text-align: center;\">Total points: 85 </p>\n",
    "## <p style=\"text-align: center;\">Due: Thursday, October 3rd, submitted via Canvas by 11:59 pm</p>\n",
    "\n",
    "Your homework should be written in a **Jupyter notebook**. You may work in groups of two if you wish. Your partner needs to be from the same section. Only one student per team needs to submit the assignment on Canvas.  But be sure to include name and UTEID for both students.  Homework groups will be created and managed through Canvas, so please do not arbitrarily change your homework group. If you do change, let the TA know. \n",
    "\n",
    "Also, please make sure your code runs and the graphics (and anything else) are displayed in your notebook before submitting. (%matplotlib inline)"
   ]
  },
  {
   "cell_type": "markdown",
   "metadata": {},
   "source": [
    "# Question 1. Bias-variance (30pts)\n",
    "Use the following code to read in a small set of data and divide it into training and testing sets. Inputs are x; outputs are y."
   ]
  },
  {
   "cell_type": "code",
   "execution_count": 145,
   "metadata": {},
   "outputs": [],
   "source": [
    "import numpy as np\n",
    "np.random.seed(11)\n",
    "x_train = np.loadtxt(\"X_q0_train.csv\").reshape(-1,1)\n",
    "y_train = np.loadtxt(\"Y_q0_train.csv\").reshape(-1,1)\n",
    "x_test = np.loadtxt(\"X_q0_test.csv\").reshape(-1,1)\n",
    "y_test = np.loadtxt(\"Y_q0_test.csv\").reshape(-1,1)\n",
    "x_all = np.linspace(-10,10,101).reshape(-1,1)"
   ]
  },
  {
   "cell_type": "markdown",
   "metadata": {},
   "source": [
    "We want to build a model that can predict y for unknown inputs x.\n",
    "\n",
    "(a) (10pts) Fit a linear model to the training data, and report mean squared error on the test data. Plot the data (y_train vs x_train and y_test vs x_test), fitted model (prediction on x_all vs x_all), and predictions on the test set (prediction on x_test vs x_test), clearly denoting the training, testing, and predicted points. All the plots must be in the same figure and be clearly labeled.\n",
    "\n",
    "(b) (15pts) Fit polynomial models of degrees 2, 3 and 4, and the two given MLP Regression models (these two models will run for a different number of iterations when you fit them) to the training data. Report mean squared error (on both train and test sets) for all the models. Plot the data (y_train vs x_train and y_test vs x_test), the fitted models (prediction on x_all by different models vs x_all), and the predictions on the test set (prediction on x_test by different models vs x_test). All the plots must be in the same figure and be clearly labeled.\n",
    "\n",
    "(c) (5pts) Which of the polynomial models performed the best? Explain using the bias-variance tradeoff.\n"
   ]
  },
  {
   "cell_type": "markdown",
   "metadata": {},
   "source": [
    "## Answer\n",
    "(a)"
   ]
  },
  {
   "cell_type": "code",
   "execution_count": 146,
   "metadata": {
    "scrolled": false
   },
   "outputs": [
    {
     "name": "stdout",
     "output_type": "stream",
     "text": [
      "Linear Regression Test MSE: 1204.25\n"
     ]
    },
    {
     "data": {
      "image/png": "[encoded data removed]",
      "text/plain": [
       "<Figure size 432x288 with 1 Axes>"
      ]
     },
     "metadata": {
      "needs_background": "light"
     },
     "output_type": "display_data"
    }
   ],
   "source": [
    "from sklearn import linear_model\n",
    "from sklearn.metrics import mean_squared_error as mse\n",
    "import matplotlib.pyplot as plt\n",
    "%matplotlib inline\n",
    "\n",
    "linreg = linear_model.LinearRegression()\n",
    "linreg.fit(x_train, y_train)\n",
    "testpreds = linreg.predict(x_test)\n",
    "allpreds = linreg.predict(x_all)\n",
    "print('Linear Regression Test MSE: %.2f' % mse(y_test, testpreds))\n",
    "\n",
    "plt.plot(x_train, y_train, 'ro', label='train data', markersize=3)\n",
    "plt.plot(x_test, y_test, 'b.', label='test data')\n",
    "plt.plot(x_test, testpreds, 'ko', label='test pred', markersize=3)\n",
    "plt.plot(x_all, allpreds, 'm', label='Fitted Model')\n",
    "plt.legend(loc='best')\n",
    "plt.show()"
   ]
  },
  {
   "cell_type": "markdown",
   "metadata": {},
   "source": [
    "(b)"
   ]
  },
  {
   "cell_type": "code",
   "execution_count": 147,
   "metadata": {
    "scrolled": true
   },
   "outputs": [
    {
     "name": "stdout",
     "output_type": "stream",
     "text": [
      "MLP1 Train MSE: 647.23\n",
      "MLP1 Test MSE: 1098.82\n",
      "\n",
      "\n",
      "MLP2 Train MSE 1032.03\n",
      "MLP2 Test MSE: 1457.89\n",
      "\n",
      "\n",
      "2nd Degree Train MSE: 959.52\n",
      "2nd Degree TEST MSE: 1276.39\n",
      "\n",
      "\n",
      "3rd Degree Train MSE: 624.54\n",
      "3rd Degree Test MSE: 1152.28\n",
      "\n",
      "\n",
      "4th Degree Train MSE: 622.41\n",
      "4th Degree Test MSE: 1183.20\n"
     ]
    }
   ],
   "source": [
    "from sklearn.preprocessing import PolynomialFeatures\n",
    "from sklearn.neural_network import MLPRegressor\n",
    "import warnings\n",
    "warnings.filterwarnings('ignore')\n",
    "\n",
    "mlp_1 = MLPRegressor(hidden_layer_sizes=100, alpha=0.001, max_iter=2000, activation='tanh', random_state=11)\n",
    "mlp_1.fit(x_train, y_train)\n",
    "print('MLP1 Train MSE: %.2f' % mse(y_train, mlp_1.predict(x_train)))\n",
    "print('MLP1 Test MSE: %.2f' % mse(y_test, mlp_1.predict(x_test)))\n",
    "print('\\n')\n",
    "\n",
    "\n",
    "mlp_2 = MLPRegressor(hidden_layer_sizes=100, alpha=0.001, max_iter=200,  activation='tanh', random_state=11)\n",
    "mlp_2.fit(x_train, y_train)\n",
    "print('MLP2 Train MSE %.2f' % mse(y_train, mlp_2.predict(x_train)))\n",
    "print('MLP2 Test MSE: %.2f' % mse(y_test, mlp_2.predict(x_test)))\n",
    "print('\\n')\n",
    "\n",
    "poly2 = PolynomialFeatures()\n",
    "xtrain_poly2 = poly2.fit_transform(x_train)\n",
    "xtest_poly2 = poly2.fit_transform(x_test)\n",
    "xall_poly2 = poly2.fit_transform(x_all)\n",
    "poly2model = linear_model.LinearRegression()\n",
    "poly2model.fit(xtrain_poly2, y_train)\n",
    "print('2nd Degree Train MSE: %.2f' % mse(y_train, poly2model.predict(xtrain_poly2)))\n",
    "print('2nd Degree TEST MSE: %.2f' % mse(y_test, poly2model.predict(xtest_poly2)))\n",
    "print('\\n')\n",
    "\n",
    "poly3 = PolynomialFeatures(3)\n",
    "xtrain_poly3 = poly3.fit_transform(x_train)\n",
    "xtest_poly3 = poly3.fit_transform(x_test)\n",
    "xall_poly3 = poly3.fit_transform(x_all)\n",
    "poly3model = linear_model.LinearRegression()\n",
    "poly3model.fit(xtrain_poly3, y_train)\n",
    "print('3rd Degree Train MSE: %.2f' % mse(y_train, poly3model.predict(xtrain_poly3)))\n",
    "print('3rd Degree Test MSE: %.2f' % mse(y_test, poly3model.predict(xtest_poly3)))\n",
    "print('\\n')\n",
    "\n",
    "poly4 = PolynomialFeatures(4)\n",
    "xtrain_poly4 = poly4.fit_transform(x_train)\n",
    "xtest_poly4 = poly4.fit_transform(x_test)\n",
    "xall_poly4 = poly4.fit_transform(x_all)\n",
    "poly4model = linear_model.LinearRegression()\n",
    "poly4model.fit(xtrain_poly4, y_train)\n",
    "print('4th Degree Train MSE: %.2f' % mse(y_train, poly4model.predict(xtrain_poly4)))\n",
    "print('4th Degree Test MSE: %.2f' % mse(y_test, poly4model.predict(xtest_poly4)))"
   ]
  },
  {
   "cell_type": "code",
   "execution_count": 148,
   "metadata": {},
   "outputs": [
    {
     "data": {
      "image/png": "[encoded data removed]",
      "text/plain": [
       "<Figure size 576x720 with 1 Axes>"
      ]
     },
     "metadata": {
      "needs_background": "light"
     },
     "output_type": "display_data"
    }
   ],
   "source": [
    "plt.figure(figsize=[8, 10])\n",
    "plt.plot(x_train, y_train, 'ro', label='train data', markersize=3)\n",
    "plt.plot(x_test, y_test, 'bo', label='test data', markersize=3)\n",
    "plt.plot(x_test, poly2model.predict(xtest_poly2), 'mo', label='Degree 2 Test', markersize=3)\n",
    "plt.plot(x_all, poly2model.predict(xall_poly2), 'm', label='Degree 2 Fit')\n",
    "plt.plot(x_test, poly3model.predict(xtest_poly3), 'co', label='Degree 3 Test', markersize=3)\n",
    "plt.plot(x_all, poly3model.predict(xall_poly3), 'c', label='Degree 3 Fit')\n",
    "plt.plot(x_test, poly4model.predict(xtest_poly4), 'ko', label='Degree 4 Test', markersize=3)\n",
    "plt.plot(x_all, poly4model.predict(xall_poly4), 'k', label='Degree 4 Fit')\n",
    "plt.plot(x_test, mlp_1.predict(x_test), 'yo', label='MLP1 Test', markersize=3)\n",
    "plt.plot(x_all, mlp_1.predict(x_all), 'y', label='MLP1 Fit')\n",
    "plt.plot(x_test, mlp_2.predict(x_test), 'go', label='MLP2 Test', markersize=3)\n",
    "plt.plot(x_all, mlp_2.predict(x_all), 'g', label='MLP2 Fit')\n",
    "plt.legend(loc='best')\n",
    "plt.show()"
   ]
  },
  {
   "cell_type": "markdown",
   "metadata": {},
   "source": [
    "(c) "
   ]
  },
  {
   "cell_type": "markdown",
   "metadata": {},
   "source": [
    "Answer: The 3rd degree polynomial is the best of our polynomial models although MLP1 has the best test MSE of the 5 models. The degree 3 model is preferable over our degree 2 and degree 4 models because it achieves the lowest bias and variance of the 3. A degree 2 model is a high bias but low variance model (underfit) relative to the others whereas the degree 4 model represents a low bias high variance model (overfit).  "
   ]
  },
  {
   "cell_type": "markdown",
   "metadata": {},
   "source": [
    "# Question 2. Number of data points required for Linear Regression (30pts)"
   ]
  },
  {
   "cell_type": "markdown",
   "metadata": {},
   "source": [
    "In this question, we will explore empirically estimating a known data distribution. Let the data be generated by the probabilistic model $y_i = w^T x_i + \\epsilon$. Here $x$ is 10 dimensional, and it's features are uniformly drawn values from $0$ to $1$. The true coefficients $w$ are set to be $1, 2, 3, \\dots, 10$. Epsilon is drawn from a 0 mean unit variance normal distribution. We can now estimate these true coefficients by using linear regression on sample data points from the distribution. \n",
    "\n",
    "1. Generate 100 sample points $(x, y)$ according to the above distribution. Use the [np.matmul](https://docs.scipy.org/doc/numpy/reference/generated/numpy.matmul.html) function. (2pts)\n",
    "2. Fit a linear regression model through the above data and report the MSE. (3 pts)\n",
    "3. Generate 50 sample points $(x, y)$ to be the test set. Now, generate different amounts of train data points ranging from 20 data points to 1000 data points (intervals of 1) and plot how the MSE varies with increasing the train data. At the point where the MSE is minimum, print the corresponding coefficients. (10pts)\n",
    "4. In this question, since we know the true coefficients, we can investigate how close the estimated coefficients are to the true coefficients. We will use $MSE(coefficients)$ which is MSE between the true coefficients and the estimated coefficients as the metric to see how close the estimated coefficients are to the true coefficients; this is not to be confused with the MSE between the predicted $y$ and the true $y$ which is commonly used. Hence, $MSE(coefficients) = \\frac{1}{num\\_coefficients}\\sum_{i=1}^{num\\_coefficients} (\\theta_i - \\hat{\\theta}_i)^2$ where $\\theta_i$ are the true coefficients and $\\hat{\\theta}_i$ are the estimated coefficients.\n",
    "Using the $MSE(coefficients)$ as the metric, about how many data points are required to have $MSE(coefficients)$ < 0.01? (run this for 10 trials and report the average number of data points it takes). Now, use only the first three coefficients, generate $x$ which is 3 dimensional (instead of 10 dimensional as before) and the corresponding $y$ for each $x$. In this case, when $x$ is three dimensional, how many data points are required to have $MSE(coefficients)$ < 0.01? (run this for 10 trials and report the average number of data points it takes).(15pts)\n"
   ]
  },
  {
   "cell_type": "markdown",
   "metadata": {},
   "source": [
    "1."
   ]
  },
  {
   "cell_type": "code",
   "execution_count": 149,
   "metadata": {},
   "outputs": [],
   "source": [
    "np.random.seed(11)\n",
    "w_true = np.arange(10)+1\n",
    "x = np.random.uniform(size=(100, 10))\n",
    "e = np.random.normal(size=(100))\n",
    "y = np.matmul(x, w_true)+e"
   ]
  },
  {
   "cell_type": "markdown",
   "metadata": {},
   "source": [
    "2."
   ]
  },
  {
   "cell_type": "code",
   "execution_count": 150,
   "metadata": {},
   "outputs": [
    {
     "name": "stdout",
     "output_type": "stream",
     "text": [
      "The MSE is: 1.01344\n"
     ]
    }
   ],
   "source": [
    "model = linear_model.LinearRegression()\n",
    "model.fit(x, y)\n",
    "print('The MSE is: %.5f' % mse(y, model.predict(x)))"
   ]
  },
  {
   "cell_type": "markdown",
   "metadata": {},
   "source": [
    "3."
   ]
  },
  {
   "cell_type": "code",
   "execution_count": 151,
   "metadata": {},
   "outputs": [
    {
     "name": "stdout",
     "output_type": "stream",
     "text": [
      "Coefficients are [ 1.03277196  1.93345918  2.83480808  3.9280535   4.87303922  5.97225152\n",
      "  7.01485388  8.23170043  8.94561766 10.00432909]\n"
     ]
    },
    {
     "data": {
      "image/png": "[encoded data removed]",
      "text/plain": [
       "<Figure size 432x288 with 1 Axes>"
      ]
     },
     "metadata": {
      "needs_background": "light"
     },
     "output_type": "display_data"
    }
   ],
   "source": [
    "np.random.seed(11)\n",
    "p3_xtest = np.random.uniform(size=(50, 10))\n",
    "p3_etest = np.random.normal(size=(50))\n",
    "p3_ytest = np.matmul(p3_xtest, w_true)+p3_etest\n",
    "MSElist = []\n",
    "np.random.seed(11)\n",
    "for n in range(20, 1001):\n",
    "    p3_xtrain = np.random.uniform(size=(n, 10))\n",
    "    p3_etrain = np.random.normal(size=(n))\n",
    "    p3_ytrain = np.matmul(p3_xtrain, w_true)+p3_etrain\n",
    "    model.fit(p3_xtrain, p3_ytrain)\n",
    "    MSElist.append(mse(p3_ytest, model.predict(p3_xtest)))\n",
    "    if mse(p3_ytest, model.predict(p3_xtest)) == min(MSElist):\n",
    "        bestmodel = model.fit(p3_xtrain, p3_ytrain)\n",
    "plt.plot(range(20, 1001), MSElist)\n",
    "plt.xlabel('Training Data Size')\n",
    "plt.ylabel('Mean Squared Error')\n",
    "print('Coefficients are', bestmodel.coef_)"
   ]
  },
  {
   "cell_type": "markdown",
   "metadata": {},
   "source": [
    "4. "
   ]
  },
  {
   "cell_type": "code",
   "execution_count": 152,
   "metadata": {},
   "outputs": [
    {
     "name": "stdout",
     "output_type": "stream",
     "text": [
      "Average Data Size: 277.2\n"
     ]
    }
   ],
   "source": [
    "# Using all coefficients\n",
    "from statistics import mean\n",
    "numdata=[]\n",
    "np.random.seed(11)\n",
    "for i in range(0,10):\n",
    "    for n in range(20, 1001):\n",
    "        p4_x = np.random.uniform(size=(n, 10))\n",
    "        p4_e = np.random.normal(size=(n)) \n",
    "        p4_y = np.matmul(p4_x, w_true)+p4_e\n",
    "        model.fit(p4_x,p4_y)\n",
    "        mse_coef=mse(w_true, model.coef_)\n",
    "        if mse_coef < 0.01:\n",
    "            numdata.append(n)\n",
    "            break\n",
    "print('Average Data Size:', mean(numdata))"
   ]
  },
  {
   "cell_type": "code",
   "execution_count": 153,
   "metadata": {},
   "outputs": [
    {
     "name": "stdout",
     "output_type": "stream",
     "text": [
      "Average Data Size for 3D subspace: 90.7\n"
     ]
    }
   ],
   "source": [
    "# Using only 1st 3 features\n",
    "numdata=[]\n",
    "new_w_true = w_true[0:3]\n",
    "np.random.seed(11)\n",
    "for i in range(0,10):\n",
    "    for n in range(20, 1001):\n",
    "        p4_2_x = np.random.uniform(size=(n, 3))\n",
    "        p4_2_e = np.random.normal(size=(n)) \n",
    "        p4_2_y = np.matmul(p4_2_x, new_w_true)+p4_2_e\n",
    "        model.fit(p4_2_x,p4_2_y)\n",
    "        mse_coef=mse(new_w_true, model.coef_)\n",
    "        if mse_coef <0.01:\n",
    "            numdata.append(n)\n",
    "            break\n",
    "avgdatasize=mean(numdata)\n",
    "print('Average Data Size for 3D subspace:', mean(numdata))"
   ]
  },
  {
   "cell_type": "markdown",
   "metadata": {},
   "source": [
    "# Question 3. Data Imputation Strategies (20pts)\n",
    "\n",
    "The missing value problem is inevitable in predictive modeling and in order to build a useful model, it is important that these missing values are handled appropriately. There could be many reasons for the presence of missing values(represented as NaN in python) in the dataset, like the absence of information corresponding to the variable, failure to record the available value of the variable, some unknown semantics associated with NaN, etc. \n",
    "\n",
    "For the given dataset(file named q3_dataset.csv), fit a Linear Regression model to predict the dependent variable 'ViolentCrimesPerPop'. If you directly try to fit a model you would see an error saying that input contains NaN. So, in order to successfully fit a model, you need to handle these missing values and the performance of your model would depend on how you handle them. \n",
    "\n",
    "Your task is to try different imputation strategies for the different columns having missing values and see what works best. You could try the following -\n",
    "1. Discard rows with missing data\n",
    "2. Fill NaNs with 0s\n",
    "3. Fill NaNs with column mean/mode/median\n",
    "4. Use information from related columns (think of how you could do this)\n",
    "\n",
    "A strategy could work better for one column and not work for another. Briefly justify why do you think that a particular strategy works better than the other.\n",
    "\n",
    "Hint: Think about how do the missing values occur for a particular column like are they random or systematic, do they have any semantics?"
   ]
  },
  {
   "cell_type": "code",
   "execution_count": 154,
   "metadata": {
    "scrolled": true
   },
   "outputs": [
    {
     "name": "stdout",
     "output_type": "stream",
     "text": [
      "Column-wise missing value percentage\n",
      "ViolentCrimesPerPop     0.000000\n",
      "PolicBudgPerPop        84.002006\n",
      "population              9.979940\n",
      "householdsize          19.959880\n",
      "numbUrban               7.321966\n",
      "pctUrban                0.000000\n",
      "medIncome               0.000000\n",
      "perCapInc               0.000000\n",
      "LandArea                0.000000\n",
      "PopDens                 0.000000\n",
      "PolicCars              84.002006\n",
      "PctUnemployed           4.964895\n",
      "PctEmploy               4.964895\n",
      "dtype: float64\n"
     ]
    }
   ],
   "source": [
    "import pandas as pd\n",
    "from sklearn.model_selection import train_test_split\n",
    "from sklearn import linear_model\n",
    "from sklearn.metrics import mean_absolute_error as mae\n",
    "import numpy as np\n",
    "\n",
    "dataset = pd.read_csv('q3_dataset.csv')\n",
    "print(\"Column-wise missing value percentage\")\n",
    "print(dataset.isnull().sum()/len(dataset)*100)\n",
    "\n",
    "X = dataset.drop(['ViolentCrimesPerPop'],axis=1)\n",
    "Y = dataset['ViolentCrimesPerPop']\n",
    "\n",
    "X_train, X_test, Y_train, Y_test = train_test_split(X,Y,test_size = 0.30, random_state=11)"
   ]
  },
  {
   "cell_type": "markdown",
   "metadata": {},
   "source": [
    "### Answer"
   ]
  },
  {
   "cell_type": "code",
   "execution_count": 155,
   "metadata": {},
   "outputs": [
    {
     "name": "stdout",
     "output_type": "stream",
     "text": [
      "The MSE is: 0.03595\n",
      "The MAE is: 0.13684\n"
     ]
    },
    {
     "data": {
      "text/html": [
       "<div>\n",
       "<style scoped>\n",
       "    .dataframe tbody tr th:only-of-type {\n",
       "        vertical-align: middle;\n",
       "    }\n",
       "\n",
       "    .dataframe tbody tr th {\n",
       "        vertical-align: top;\n",
       "    }\n",
       "\n",
       "    .dataframe thead th {\n",
       "        text-align: right;\n",
       "    }\n",
       "</style>\n",
       "<table border=\"1\" class=\"dataframe\">\n",
       "  <thead>\n",
       "    <tr style=\"text-align: right;\">\n",
       "      <th></th>\n",
       "      <th>population</th>\n",
       "      <th>householdsize</th>\n",
       "      <th>numbUrban</th>\n",
       "      <th>pctUrban</th>\n",
       "      <th>medIncome</th>\n",
       "      <th>perCapInc</th>\n",
       "      <th>LandArea</th>\n",
       "      <th>PopDens</th>\n",
       "      <th>PctUnemployed</th>\n",
       "      <th>PctEmploy</th>\n",
       "    </tr>\n",
       "  </thead>\n",
       "  <tbody>\n",
       "    <tr>\n",
       "      <td>population</td>\n",
       "      <td>1.000000</td>\n",
       "      <td>-0.049351</td>\n",
       "      <td>0.920679</td>\n",
       "      <td>0.234563</td>\n",
       "      <td>-0.093866</td>\n",
       "      <td>-0.040321</td>\n",
       "      <td>0.704847</td>\n",
       "      <td>0.228972</td>\n",
       "      <td>0.114941</td>\n",
       "      <td>0.006028</td>\n",
       "    </tr>\n",
       "    <tr>\n",
       "      <td>householdsize</td>\n",
       "      <td>-0.049351</td>\n",
       "      <td>1.000000</td>\n",
       "      <td>-0.049973</td>\n",
       "      <td>-0.014281</td>\n",
       "      <td>0.180666</td>\n",
       "      <td>-0.124299</td>\n",
       "      <td>0.002935</td>\n",
       "      <td>-0.039359</td>\n",
       "      <td>0.131067</td>\n",
       "      <td>0.095103</td>\n",
       "    </tr>\n",
       "    <tr>\n",
       "      <td>numbUrban</td>\n",
       "      <td>0.920679</td>\n",
       "      <td>-0.049973</td>\n",
       "      <td>1.000000</td>\n",
       "      <td>0.315834</td>\n",
       "      <td>-0.103490</td>\n",
       "      <td>-0.058539</td>\n",
       "      <td>0.715958</td>\n",
       "      <td>0.253928</td>\n",
       "      <td>0.128072</td>\n",
       "      <td>0.012046</td>\n",
       "    </tr>\n",
       "    <tr>\n",
       "      <td>pctUrban</td>\n",
       "      <td>0.234563</td>\n",
       "      <td>-0.014281</td>\n",
       "      <td>0.315834</td>\n",
       "      <td>1.000000</td>\n",
       "      <td>0.348515</td>\n",
       "      <td>0.340761</td>\n",
       "      <td>0.087248</td>\n",
       "      <td>0.330752</td>\n",
       "      <td>-0.226250</td>\n",
       "      <td>0.298691</td>\n",
       "    </tr>\n",
       "    <tr>\n",
       "      <td>medIncome</td>\n",
       "      <td>-0.093866</td>\n",
       "      <td>0.180666</td>\n",
       "      <td>-0.103490</td>\n",
       "      <td>0.348515</td>\n",
       "      <td>1.000000</td>\n",
       "      <td>0.893939</td>\n",
       "      <td>-0.052932</td>\n",
       "      <td>0.004695</td>\n",
       "      <td>-0.651930</td>\n",
       "      <td>0.632425</td>\n",
       "    </tr>\n",
       "    <tr>\n",
       "      <td>perCapInc</td>\n",
       "      <td>-0.040321</td>\n",
       "      <td>-0.124299</td>\n",
       "      <td>-0.058539</td>\n",
       "      <td>0.340761</td>\n",
       "      <td>0.893939</td>\n",
       "      <td>1.000000</td>\n",
       "      <td>-0.039841</td>\n",
       "      <td>0.055234</td>\n",
       "      <td>-0.653695</td>\n",
       "      <td>0.485526</td>\n",
       "    </tr>\n",
       "    <tr>\n",
       "      <td>LandArea</td>\n",
       "      <td>0.704847</td>\n",
       "      <td>0.002935</td>\n",
       "      <td>0.715958</td>\n",
       "      <td>0.087248</td>\n",
       "      <td>-0.052932</td>\n",
       "      <td>-0.039841</td>\n",
       "      <td>1.000000</td>\n",
       "      <td>-0.153965</td>\n",
       "      <td>0.050489</td>\n",
       "      <td>0.038446</td>\n",
       "    </tr>\n",
       "    <tr>\n",
       "      <td>PopDens</td>\n",
       "      <td>0.228972</td>\n",
       "      <td>-0.039359</td>\n",
       "      <td>0.253928</td>\n",
       "      <td>0.330752</td>\n",
       "      <td>0.004695</td>\n",
       "      <td>0.055234</td>\n",
       "      <td>-0.153965</td>\n",
       "      <td>1.000000</td>\n",
       "      <td>0.137784</td>\n",
       "      <td>0.013458</td>\n",
       "    </tr>\n",
       "    <tr>\n",
       "      <td>PctUnemployed</td>\n",
       "      <td>0.114941</td>\n",
       "      <td>0.131067</td>\n",
       "      <td>0.128072</td>\n",
       "      <td>-0.226250</td>\n",
       "      <td>-0.651930</td>\n",
       "      <td>-0.653695</td>\n",
       "      <td>0.050489</td>\n",
       "      <td>0.137784</td>\n",
       "      <td>1.000000</td>\n",
       "      <td>-0.700275</td>\n",
       "    </tr>\n",
       "    <tr>\n",
       "      <td>PctEmploy</td>\n",
       "      <td>0.006028</td>\n",
       "      <td>0.095103</td>\n",
       "      <td>0.012046</td>\n",
       "      <td>0.298691</td>\n",
       "      <td>0.632425</td>\n",
       "      <td>0.485526</td>\n",
       "      <td>0.038446</td>\n",
       "      <td>0.013458</td>\n",
       "      <td>-0.700275</td>\n",
       "      <td>1.000000</td>\n",
       "    </tr>\n",
       "  </tbody>\n",
       "</table>\n",
       "</div>"
      ],
      "text/plain": [
       "               population  householdsize  numbUrban  pctUrban  medIncome  \\\n",
       "population       1.000000      -0.049351   0.920679  0.234563  -0.093866   \n",
       "householdsize   -0.049351       1.000000  -0.049973 -0.014281   0.180666   \n",
       "numbUrban        0.920679      -0.049973   1.000000  0.315834  -0.103490   \n",
       "pctUrban         0.234563      -0.014281   0.315834  1.000000   0.348515   \n",
       "medIncome       -0.093866       0.180666  -0.103490  0.348515   1.000000   \n",
       "perCapInc       -0.040321      -0.124299  -0.058539  0.340761   0.893939   \n",
       "LandArea         0.704847       0.002935   0.715958  0.087248  -0.052932   \n",
       "PopDens          0.228972      -0.039359   0.253928  0.330752   0.004695   \n",
       "PctUnemployed    0.114941       0.131067   0.128072 -0.226250  -0.651930   \n",
       "PctEmploy        0.006028       0.095103   0.012046  0.298691   0.632425   \n",
       "\n",
       "               perCapInc  LandArea   PopDens  PctUnemployed  PctEmploy  \n",
       "population     -0.040321  0.704847  0.228972       0.114941   0.006028  \n",
       "householdsize  -0.124299  0.002935 -0.039359       0.131067   0.095103  \n",
       "numbUrban      -0.058539  0.715958  0.253928       0.128072   0.012046  \n",
       "pctUrban        0.340761  0.087248  0.330752      -0.226250   0.298691  \n",
       "medIncome       0.893939 -0.052932  0.004695      -0.651930   0.632425  \n",
       "perCapInc       1.000000 -0.039841  0.055234      -0.653695   0.485526  \n",
       "LandArea       -0.039841  1.000000 -0.153965       0.050489   0.038446  \n",
       "PopDens         0.055234 -0.153965  1.000000       0.137784   0.013458  \n",
       "PctUnemployed  -0.653695  0.050489  0.137784       1.000000  -0.700275  \n",
       "PctEmploy       0.485526  0.038446  0.013458      -0.700275   1.000000  "
      ]
     },
     "execution_count": 155,
     "metadata": {},
     "output_type": "execute_result"
    }
   ],
   "source": [
    "# PopDens = Pop/LandArea so middle school math\n",
    "mask = dataset['population'].isnull()\n",
    "dataset.loc[mask, 'population'] = dataset['PopDens']*dataset['LandArea']\n",
    "\n",
    "# We want to be robust to outliers and opt for median rather than mean\n",
    "mask1 = dataset['householdsize'].isnull()\n",
    "mask2 = dataset['householdsize'].notnull()\n",
    "dataset.loc[mask1, 'householdsize'] = dataset.loc[mask2, 'householdsize'].median()\n",
    "\n",
    "# pctUrban = (numUrban / Pop)*100 so middle school math \n",
    "mask = dataset['numbUrban'].isnull()\n",
    "dataset.loc[mask, 'numbUrban'] = dataset['pctUrban']*dataset['population']/100\n",
    "\n",
    "# PctUnemployed is missing values in only 5% of data; aggregate statistic should be satisfactory\n",
    "# I considered PctUnemp = 100-PctEmploy but there was no change to the MSE\n",
    "mask1 = dataset['PctUnemployed'].isnull()\n",
    "mask2 = dataset['PctUnemployed'].notnull()\n",
    "dataset.loc[mask1, 'PctUnemployed'] = dataset.loc[mask2, 'PctUnemployed'].mean()\n",
    "\n",
    "# Same logic as PctUnemployed\n",
    "mask1 = dataset['PctEmploy'].isnull()\n",
    "mask2 = dataset['PctEmploy'].notnull()\n",
    "dataset.loc[mask1, 'PctEmploy'] = dataset.loc[mask2, 'PctEmploy'].mean()\n",
    "\n",
    "# A lot of PolicBudgPerPop and PolicCars is missing values\n",
    "# Aggregate statistic is unlikely to be representative of full dataset so just drop the columns\n",
    "X = dataset.drop(['PolicBudgPerPop', 'PolicCars', 'ViolentCrimesPerPop'],axis=1)\n",
    "Y = dataset['ViolentCrimesPerPop']\n",
    "\n",
    "X_train, X_test, Y_train, Y_test = train_test_split(X,Y,test_size = 0.30, random_state=11)\n",
    "model.fit(X_train, Y_train)\n",
    "print('The MSE is: %.5f' % mse(Y_test, model.predict(X_test)))\n",
    "print('The MAE is: %.5f' % mae(Y_test, model.predict(X_test)))\n",
    "X_train.corr(method='pearson')"
   ]
  },
  {
   "cell_type": "markdown",
   "metadata": {},
   "source": [
    "# Question 4. PCA (conceptual) (5pts)"
   ]
  },
  {
   "cell_type": "markdown",
   "metadata": {},
   "source": [
    "True or False : The goal of PCA is to create a lower-dimensional representation with principal components that are best at predicting the output variable.\n",
    "Justify your answer"
   ]
  },
  {
   "cell_type": "markdown",
   "metadata": {},
   "source": [
    "Answer: False. PCA is an unsupervised learning technique that is used to create lower-dimensional representations of our data while still containing most of the information (variance) in the data. However, because it is unsupervised there is no \"output variable\" to predict."
   ]
  }
 ],
 "metadata": {
  "kernelspec": {
   "display_name": "Python 3",
   "language": "python",
   "name": "python3"
  },
  "language_info": {
   "codemirror_mode": {
    "name": "ipython",
    "version": 3
   },
   "file_extension": ".py",
   "mimetype": "text/x-python",
   "name": "python",
   "nbconvert_exporter": "python",
   "pygments_lexer": "ipython3",
   "version": "3.6.9"
  }
 },
 "nbformat": 4,
 "nbformat_minor": 1
}
