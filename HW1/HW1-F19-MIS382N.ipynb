{
 "cells": [
  {
   "cell_type": "markdown",
   "metadata": {},
   "source": [
    "\n",
    "# <p style=\"text-align: center;\">MIS 382N: ADVANCED PREDICTIVE MODELING - MSBA</p>\n",
    "# <p style=\"text-align: center;\">Assignment 1</p>\n",
    "## <p style=\"text-align: center;\">Total points: 100</p>\n",
    "## <p style=\"text-align: center;\">Due: Tuesday, September 17 submitted via Canvas by 11:59 pm</p>\n",
    "\n",
    "Your homework should be written in a **Jupyter notebook**. You may work in groups of two if you wish. Your partner needs to be from the same section. Only one student per team needs to submit the assignment on Canvas.  But be sure to include name and UTEID for both students.  Homework groups will be created and managed through Canvas, so please do not arbitrarily change your homework group. If you do change, let the TA know. \n",
    "\n",
    "Also, please make sure your code runs and the graphics (and anything else) are displayed in your notebook before submitting. (%matplotlib inline)"
   ]
  },
  {
   "cell_type": "markdown",
   "metadata": {},
   "source": [
    "# Question 1: Challenges in Data Science (10 pts)\n",
    "\n",
    "Refer to the Domino guide under Modules --> Additional Resources\n",
    "\n",
    "Section 2 describes 8 Challenges. You may have personally encountered or heard of somebody else who encountered some of these challenge. If so,  please write 1-2 paragraphs on what situation was encountered and how it mapped into one the mentioned challenges. If not, think of a hypothetical case and do the same exercise. \n",
    "\n",
    "\n",
    "## Answer\n",
    "I had a conversation with a data scientist at Chevron who was a part of a team that was tasked to find low-hanging fruit and address such issues on short timelines, typically 6 months at the longest. Because the team was expected to provide solutions with such quick turnaround, they eventually realized that while they were solving a few business problems at a time, they did not solve enough problems at once.\n",
    "\n",
    "The energy/oil and gas industry is an industry that collects tremendous amounts of data every day, between the company trading floor, refineries, and pipelines the stream of data is almost endless. The team could only tackle a few problems at a time often in only one area of the company. As such, Chevron would later establish another team within the data science department that tackled longer horizon projects and sought to address incoming issues while the other team continued to solve what problems they could.\n",
    "\n"
   ]
  },
  {
   "cell_type": "markdown",
   "metadata": {},
   "source": [
    "# Question 2: MLE Estimate (5+10+10 points)\n",
    "\n",
    "Consider a coin tossing experiment where a biased coin is tossed repeatedly for $n$ times with independence in successive tosses. \n",
    "If we record the outcome of each toss as $X_{i}$, for $i \\in \\{1,2,3,....,n\\}$ as follows\n",
    "\n",
    "$  \n",
    "X_{i} = \n",
    "     \\begin{cases}\n",
    "       \\text{1,} &\\quad\\text{if $i^{th}$ toss results in $Heads$,}\\\\\n",
    "       \\text{0,} &\\quad\\text{otherwise.} \\\\ \n",
    "     \\end{cases}\n",
    "$\n",
    "\n",
    "then $X_{1}, X_{2}, .... X_{n}$ will be a sequence of $0$'s and $1$'s. Assume that for this coin $P(Heads) = p$, which of course is not known to the experimenter. \n",
    "\n",
    "1. The log-likelihood function of the observations, as discussed in the class, denotes the probability of occurrence of the observations. Write the log-likelihood function for the set of observations $X_{1}, X_{2}, .... X_{n}$. \n",
    "\n",
    "2. Compute an MLE estimate of $p$.\n",
    "\n",
    "3. Check if the obtained estimate is unbiased.\n"
   ]
  },
  {
   "cell_type": "markdown",
   "metadata": {},
   "source": [
    "## Answer\n",
    "\n"
   ]
  },
  {
   "cell_type": "markdown",
   "metadata": {},
   "source": [
    "# Question 3: Multiple Linear Regression in Python (30 pts)\n",
    "\n",
    "Use the following code to import the California housing prices dataset and linear models in python. The dataset is taken from https://www.kaggle.com/camnugent/california-housing-prices/version/1. I have removed the categorical variables and rows with missing variables to make it easier to run the models. \n"
   ]
  },
  {
   "cell_type": "code",
   "execution_count": 69,
   "metadata": {},
   "outputs": [],
   "source": [
    "from sklearn import linear_model\n",
    "from sklearn.metrics import mean_absolute_error\n",
    "import numpy as np\n",
    "import pandas as pd\n",
    "pd.options.mode.chained_assignment = None\n",
    "\n",
    "\n",
    "train_df = pd.read_csv(\"reduced_data.csv\")\n",
    "X = train_df.drop(['median_house_value'],axis=1)\n",
    "Y = train_df['median_house_value']"
   ]
  },
  {
   "cell_type": "markdown",
   "metadata": {},
   "source": [
    "a. (2 pts) Print the shape (number of rows and columns) of the feature matrix X, and print the first 5 rows.\n",
    "\n",
    "b.  (6 pts) Using ordinary least squares, fit a multiple linear regression (MLR) on all the feature variables using the entire dataset. Report the regression coefficient of each input feature and evaluate the model using mean absolute error (MAE).  Example of ordinary least squares in Python is shown in Section 1.1.1 of http://scikit-learn.org/stable/modules/linear_model.html.\n",
    "\n",
    "c.  (6 pts) Split the data into a training set and a test set, using the [train_test_split](https://scikit-learn.org/stable/modules/generated/sklearn.model_selection.train_test_split.html) with test_size = 0.30 and random_state = 11. Fit an MLR using the training set.  Evaluate the trained model using the training set and the test set, respectively.  Compare the two MAE values thus obtained.\n",
    "\n",
    "d.  (5 pts) Calculate the pearson correlation matrix of the independent variables in the training set (you can use [this](https://pandas.pydata.org/pandas-docs/stable/reference/api/pandas.DataFrame.corr.html)). Report the variables which have magnitude of correlation greater than 0.9 w.r.t the variable 'households'. \n",
    "\n",
    "e.  (6 pts) Add the following independent variables to both train and test sets:\n",
    "1. average_bedrooms = total_bedrooms/households\n",
    "2. average_rooms = total_rooms/households\n",
    "3. average_population = total_rooms/households\n",
    "\n",
    "Recalculate the correlation matrix. What do you observe about the correlation values of the above new variables?\n",
    "\n",
    "f. (5 pts) Fit an MLR on the new train data (with additional independent variables) and report the MAE on the new train and test sets."
   ]
  },
  {
   "cell_type": "markdown",
   "metadata": {},
   "source": [
    "## Answer"
   ]
  },
  {
   "cell_type": "markdown",
   "metadata": {},
   "source": [
    "## (a)"
   ]
  },
  {
   "cell_type": "code",
   "execution_count": 9,
   "metadata": {},
   "outputs": [
    {
     "data": {
      "text/html": [
       "<div>\n",
       "<style scoped>\n",
       "    .dataframe tbody tr th:only-of-type {\n",
       "        vertical-align: middle;\n",
       "    }\n",
       "\n",
       "    .dataframe tbody tr th {\n",
       "        vertical-align: top;\n",
       "    }\n",
       "\n",
       "    .dataframe thead th {\n",
       "        text-align: right;\n",
       "    }\n",
       "</style>\n",
       "<table border=\"1\" class=\"dataframe\">\n",
       "  <thead>\n",
       "    <tr style=\"text-align: right;\">\n",
       "      <th></th>\n",
       "      <th>longitude</th>\n",
       "      <th>latitude</th>\n",
       "      <th>housing_median_age</th>\n",
       "      <th>total_rooms</th>\n",
       "      <th>total_bedrooms</th>\n",
       "      <th>population</th>\n",
       "      <th>households</th>\n",
       "      <th>median_income</th>\n",
       "    </tr>\n",
       "  </thead>\n",
       "  <tbody>\n",
       "    <tr>\n",
       "      <td>0</td>\n",
       "      <td>-122.23</td>\n",
       "      <td>37.88</td>\n",
       "      <td>41.0</td>\n",
       "      <td>880.0</td>\n",
       "      <td>129.0</td>\n",
       "      <td>322.0</td>\n",
       "      <td>126.0</td>\n",
       "      <td>8.3252</td>\n",
       "    </tr>\n",
       "    <tr>\n",
       "      <td>1</td>\n",
       "      <td>-122.22</td>\n",
       "      <td>37.86</td>\n",
       "      <td>21.0</td>\n",
       "      <td>7099.0</td>\n",
       "      <td>1106.0</td>\n",
       "      <td>2401.0</td>\n",
       "      <td>1138.0</td>\n",
       "      <td>8.3014</td>\n",
       "    </tr>\n",
       "    <tr>\n",
       "      <td>2</td>\n",
       "      <td>-122.24</td>\n",
       "      <td>37.85</td>\n",
       "      <td>52.0</td>\n",
       "      <td>1467.0</td>\n",
       "      <td>190.0</td>\n",
       "      <td>496.0</td>\n",
       "      <td>177.0</td>\n",
       "      <td>7.2574</td>\n",
       "    </tr>\n",
       "    <tr>\n",
       "      <td>3</td>\n",
       "      <td>-122.25</td>\n",
       "      <td>37.85</td>\n",
       "      <td>52.0</td>\n",
       "      <td>1274.0</td>\n",
       "      <td>235.0</td>\n",
       "      <td>558.0</td>\n",
       "      <td>219.0</td>\n",
       "      <td>5.6431</td>\n",
       "    </tr>\n",
       "    <tr>\n",
       "      <td>4</td>\n",
       "      <td>-122.25</td>\n",
       "      <td>37.85</td>\n",
       "      <td>52.0</td>\n",
       "      <td>1627.0</td>\n",
       "      <td>280.0</td>\n",
       "      <td>565.0</td>\n",
       "      <td>259.0</td>\n",
       "      <td>3.8462</td>\n",
       "    </tr>\n",
       "    <tr>\n",
       "      <td>...</td>\n",
       "      <td>...</td>\n",
       "      <td>...</td>\n",
       "      <td>...</td>\n",
       "      <td>...</td>\n",
       "      <td>...</td>\n",
       "      <td>...</td>\n",
       "      <td>...</td>\n",
       "      <td>...</td>\n",
       "    </tr>\n",
       "    <tr>\n",
       "      <td>20428</td>\n",
       "      <td>-121.09</td>\n",
       "      <td>39.48</td>\n",
       "      <td>25.0</td>\n",
       "      <td>1665.0</td>\n",
       "      <td>374.0</td>\n",
       "      <td>845.0</td>\n",
       "      <td>330.0</td>\n",
       "      <td>1.5603</td>\n",
       "    </tr>\n",
       "    <tr>\n",
       "      <td>20429</td>\n",
       "      <td>-121.21</td>\n",
       "      <td>39.49</td>\n",
       "      <td>18.0</td>\n",
       "      <td>697.0</td>\n",
       "      <td>150.0</td>\n",
       "      <td>356.0</td>\n",
       "      <td>114.0</td>\n",
       "      <td>2.5568</td>\n",
       "    </tr>\n",
       "    <tr>\n",
       "      <td>20430</td>\n",
       "      <td>-121.22</td>\n",
       "      <td>39.43</td>\n",
       "      <td>17.0</td>\n",
       "      <td>2254.0</td>\n",
       "      <td>485.0</td>\n",
       "      <td>1007.0</td>\n",
       "      <td>433.0</td>\n",
       "      <td>1.7000</td>\n",
       "    </tr>\n",
       "    <tr>\n",
       "      <td>20431</td>\n",
       "      <td>-121.32</td>\n",
       "      <td>39.43</td>\n",
       "      <td>18.0</td>\n",
       "      <td>1860.0</td>\n",
       "      <td>409.0</td>\n",
       "      <td>741.0</td>\n",
       "      <td>349.0</td>\n",
       "      <td>1.8672</td>\n",
       "    </tr>\n",
       "    <tr>\n",
       "      <td>20432</td>\n",
       "      <td>-121.24</td>\n",
       "      <td>39.37</td>\n",
       "      <td>16.0</td>\n",
       "      <td>2785.0</td>\n",
       "      <td>616.0</td>\n",
       "      <td>1387.0</td>\n",
       "      <td>530.0</td>\n",
       "      <td>2.3886</td>\n",
       "    </tr>\n",
       "  </tbody>\n",
       "</table>\n",
       "<p>20433 rows × 8 columns</p>\n",
       "</div>"
      ],
      "text/plain": [
       "       longitude  latitude  housing_median_age  total_rooms  total_bedrooms  \\\n",
       "0        -122.23     37.88                41.0        880.0           129.0   \n",
       "1        -122.22     37.86                21.0       7099.0          1106.0   \n",
       "2        -122.24     37.85                52.0       1467.0           190.0   \n",
       "3        -122.25     37.85                52.0       1274.0           235.0   \n",
       "4        -122.25     37.85                52.0       1627.0           280.0   \n",
       "...          ...       ...                 ...          ...             ...   \n",
       "20428    -121.09     39.48                25.0       1665.0           374.0   \n",
       "20429    -121.21     39.49                18.0        697.0           150.0   \n",
       "20430    -121.22     39.43                17.0       2254.0           485.0   \n",
       "20431    -121.32     39.43                18.0       1860.0           409.0   \n",
       "20432    -121.24     39.37                16.0       2785.0           616.0   \n",
       "\n",
       "       population  households  median_income  \n",
       "0           322.0       126.0         8.3252  \n",
       "1          2401.0      1138.0         8.3014  \n",
       "2           496.0       177.0         7.2574  \n",
       "3           558.0       219.0         5.6431  \n",
       "4           565.0       259.0         3.8462  \n",
       "...           ...         ...            ...  \n",
       "20428       845.0       330.0         1.5603  \n",
       "20429       356.0       114.0         2.5568  \n",
       "20430      1007.0       433.0         1.7000  \n",
       "20431       741.0       349.0         1.8672  \n",
       "20432      1387.0       530.0         2.3886  \n",
       "\n",
       "[20433 rows x 8 columns]"
      ]
     },
     "execution_count": 9,
     "metadata": {},
     "output_type": "execute_result"
    }
   ],
   "source": [
    "X"
   ]
  },
  {
   "cell_type": "markdown",
   "metadata": {},
   "source": [
    "## (b)"
   ]
  },
  {
   "cell_type": "code",
   "execution_count": 70,
   "metadata": {},
   "outputs": [
    {
     "name": "stdout",
     "output_type": "stream",
     "text": [
      "Coefficients:\n",
      " [-4.27301205e+04 -4.25097369e+04  1.15790031e+03 -8.24972507e+00\n",
      "  1.13820707e+02 -3.83855780e+01  4.77013513e+01  4.02975217e+04]\n",
      "Mean absolute error: 50799.6307289529\n"
     ]
    }
   ],
   "source": [
    "MLR1 = linear_model.LinearRegression()\n",
    "MLR1.fit(X, Y)\n",
    "print('Coefficients:\\n', MLR1.coef_)\n",
    "Y_pred = MLR1.predict(X)\n",
    "print('Mean absolute error:', mean_absolute_error(Y, Y_pred))\n"
   ]
  },
  {
   "cell_type": "markdown",
   "metadata": {},
   "source": [
    "## (c)"
   ]
  },
  {
   "cell_type": "code",
   "execution_count": 71,
   "metadata": {},
   "outputs": [
    {
     "name": "stdout",
     "output_type": "stream",
     "text": [
      "MAE of MLR2: 50916.74299435109\n",
      "MAE of MLR1: 50799.6307289529\n"
     ]
    }
   ],
   "source": [
    "from sklearn.model_selection import train_test_split\n",
    "\n",
    "X_train, X_test, Y_train, Y_test = train_test_split(X, Y, test_size=0.30, random_state=11)\n",
    "MLR2 = linear_model.LinearRegression()\n",
    "MLR2.fit(X_train, Y_train)\n",
    "Y_preds = MLR2.predict(X_test)\n",
    "print('MAE of MLR2:', mean_absolute_error(Y_test, Y_preds))\n",
    "print('MAE of MLR1:', mean_absolute_error(Y, Y_pred))"
   ]
  },
  {
   "cell_type": "markdown",
   "metadata": {},
   "source": [
    "## (d)"
   ]
  },
  {
   "cell_type": "code",
   "execution_count": 72,
   "metadata": {},
   "outputs": [
    {
     "data": {
      "text/html": [
       "<div>\n",
       "<style scoped>\n",
       "    .dataframe tbody tr th:only-of-type {\n",
       "        vertical-align: middle;\n",
       "    }\n",
       "\n",
       "    .dataframe tbody tr th {\n",
       "        vertical-align: top;\n",
       "    }\n",
       "\n",
       "    .dataframe thead th {\n",
       "        text-align: right;\n",
       "    }\n",
       "</style>\n",
       "<table border=\"1\" class=\"dataframe\">\n",
       "  <thead>\n",
       "    <tr style=\"text-align: right;\">\n",
       "      <th></th>\n",
       "      <th>longitude</th>\n",
       "      <th>latitude</th>\n",
       "      <th>housing_median_age</th>\n",
       "      <th>total_rooms</th>\n",
       "      <th>total_bedrooms</th>\n",
       "      <th>population</th>\n",
       "      <th>households</th>\n",
       "      <th>median_income</th>\n",
       "    </tr>\n",
       "  </thead>\n",
       "  <tbody>\n",
       "    <tr>\n",
       "      <td>longitude</td>\n",
       "      <td>1.000000</td>\n",
       "      <td>-0.924616</td>\n",
       "      <td>-0.109357</td>\n",
       "      <td>0.045480</td>\n",
       "      <td>0.069608</td>\n",
       "      <td>0.100270</td>\n",
       "      <td>0.056513</td>\n",
       "      <td>-0.015550</td>\n",
       "    </tr>\n",
       "    <tr>\n",
       "      <td>latitude</td>\n",
       "      <td>-0.924616</td>\n",
       "      <td>1.000000</td>\n",
       "      <td>0.011899</td>\n",
       "      <td>-0.036667</td>\n",
       "      <td>-0.066983</td>\n",
       "      <td>-0.108997</td>\n",
       "      <td>-0.071774</td>\n",
       "      <td>-0.079626</td>\n",
       "    </tr>\n",
       "    <tr>\n",
       "      <td>housing_median_age</td>\n",
       "      <td>-0.109357</td>\n",
       "      <td>0.011899</td>\n",
       "      <td>1.000000</td>\n",
       "      <td>-0.360628</td>\n",
       "      <td>-0.320451</td>\n",
       "      <td>-0.295787</td>\n",
       "      <td>-0.302768</td>\n",
       "      <td>-0.118278</td>\n",
       "    </tr>\n",
       "    <tr>\n",
       "      <td>total_rooms</td>\n",
       "      <td>0.045480</td>\n",
       "      <td>-0.036667</td>\n",
       "      <td>-0.360628</td>\n",
       "      <td>1.000000</td>\n",
       "      <td>0.930380</td>\n",
       "      <td>0.857281</td>\n",
       "      <td>0.918992</td>\n",
       "      <td>0.197882</td>\n",
       "    </tr>\n",
       "    <tr>\n",
       "      <td>total_bedrooms</td>\n",
       "      <td>0.069608</td>\n",
       "      <td>-0.066983</td>\n",
       "      <td>-0.320451</td>\n",
       "      <td>0.930380</td>\n",
       "      <td>1.000000</td>\n",
       "      <td>0.877747</td>\n",
       "      <td>0.979728</td>\n",
       "      <td>-0.007723</td>\n",
       "    </tr>\n",
       "    <tr>\n",
       "      <td>population</td>\n",
       "      <td>0.100270</td>\n",
       "      <td>-0.108997</td>\n",
       "      <td>-0.295787</td>\n",
       "      <td>0.857281</td>\n",
       "      <td>0.877747</td>\n",
       "      <td>1.000000</td>\n",
       "      <td>0.907186</td>\n",
       "      <td>0.005087</td>\n",
       "    </tr>\n",
       "    <tr>\n",
       "      <td>households</td>\n",
       "      <td>0.056513</td>\n",
       "      <td>-0.071774</td>\n",
       "      <td>-0.302768</td>\n",
       "      <td>0.918992</td>\n",
       "      <td>0.979728</td>\n",
       "      <td>0.907186</td>\n",
       "      <td>1.000000</td>\n",
       "      <td>0.013434</td>\n",
       "    </tr>\n",
       "    <tr>\n",
       "      <td>median_income</td>\n",
       "      <td>-0.015550</td>\n",
       "      <td>-0.079626</td>\n",
       "      <td>-0.118278</td>\n",
       "      <td>0.197882</td>\n",
       "      <td>-0.007723</td>\n",
       "      <td>0.005087</td>\n",
       "      <td>0.013434</td>\n",
       "      <td>1.000000</td>\n",
       "    </tr>\n",
       "  </tbody>\n",
       "</table>\n",
       "</div>"
      ],
      "text/plain": [
       "                    longitude  latitude  housing_median_age  total_rooms  \\\n",
       "longitude            1.000000 -0.924616           -0.109357     0.045480   \n",
       "latitude            -0.924616  1.000000            0.011899    -0.036667   \n",
       "housing_median_age  -0.109357  0.011899            1.000000    -0.360628   \n",
       "total_rooms          0.045480 -0.036667           -0.360628     1.000000   \n",
       "total_bedrooms       0.069608 -0.066983           -0.320451     0.930380   \n",
       "population           0.100270 -0.108997           -0.295787     0.857281   \n",
       "households           0.056513 -0.071774           -0.302768     0.918992   \n",
       "median_income       -0.015550 -0.079626           -0.118278     0.197882   \n",
       "\n",
       "                    total_bedrooms  population  households  median_income  \n",
       "longitude                 0.069608    0.100270    0.056513      -0.015550  \n",
       "latitude                 -0.066983   -0.108997   -0.071774      -0.079626  \n",
       "housing_median_age       -0.320451   -0.295787   -0.302768      -0.118278  \n",
       "total_rooms               0.930380    0.857281    0.918992       0.197882  \n",
       "total_bedrooms            1.000000    0.877747    0.979728      -0.007723  \n",
       "population                0.877747    1.000000    0.907186       0.005087  \n",
       "households                0.979728    0.907186    1.000000       0.013434  \n",
       "median_income            -0.007723    0.005087    0.013434       1.000000  "
      ]
     },
     "execution_count": 72,
     "metadata": {},
     "output_type": "execute_result"
    }
   ],
   "source": [
    "X.corr(method='pearson')\n",
    "#The variables strongly correlated to households are total_rooms, total_bedrooms, and population"
   ]
  },
  {
   "cell_type": "markdown",
   "metadata": {},
   "source": [
    "Independent variables having correlation greater than 0.9 w.r.t 'households': \n",
    "\n"
   ]
  },
  {
   "cell_type": "markdown",
   "metadata": {},
   "source": [
    "## (e)"
   ]
  },
  {
   "cell_type": "code",
   "execution_count": 73,
   "metadata": {},
   "outputs": [
    {
     "data": {
      "text/html": [
       "<div>\n",
       "<style scoped>\n",
       "    .dataframe tbody tr th:only-of-type {\n",
       "        vertical-align: middle;\n",
       "    }\n",
       "\n",
       "    .dataframe tbody tr th {\n",
       "        vertical-align: top;\n",
       "    }\n",
       "\n",
       "    .dataframe thead th {\n",
       "        text-align: right;\n",
       "    }\n",
       "</style>\n",
       "<table border=\"1\" class=\"dataframe\">\n",
       "  <thead>\n",
       "    <tr style=\"text-align: right;\">\n",
       "      <th></th>\n",
       "      <th>longitude</th>\n",
       "      <th>latitude</th>\n",
       "      <th>housing_median_age</th>\n",
       "      <th>total_rooms</th>\n",
       "      <th>total_bedrooms</th>\n",
       "      <th>population</th>\n",
       "      <th>households</th>\n",
       "      <th>median_income</th>\n",
       "      <th>average_bedrooms</th>\n",
       "      <th>average_rooms</th>\n",
       "      <th>average_pop</th>\n",
       "    </tr>\n",
       "  </thead>\n",
       "  <tbody>\n",
       "    <tr>\n",
       "      <td>longitude</td>\n",
       "      <td>1.000000</td>\n",
       "      <td>-0.925627</td>\n",
       "      <td>-0.111272</td>\n",
       "      <td>0.042788</td>\n",
       "      <td>0.069305</td>\n",
       "      <td>0.101596</td>\n",
       "      <td>0.056116</td>\n",
       "      <td>-0.020466</td>\n",
       "      <td>0.017548</td>\n",
       "      <td>-0.027099</td>\n",
       "      <td>0.011811</td>\n",
       "    </tr>\n",
       "    <tr>\n",
       "      <td>latitude</td>\n",
       "      <td>-0.925627</td>\n",
       "      <td>1.000000</td>\n",
       "      <td>0.013098</td>\n",
       "      <td>-0.034147</td>\n",
       "      <td>-0.066424</td>\n",
       "      <td>-0.109600</td>\n",
       "      <td>-0.070537</td>\n",
       "      <td>-0.074943</td>\n",
       "      <td>0.062059</td>\n",
       "      <td>0.104294</td>\n",
       "      <td>-0.002330</td>\n",
       "    </tr>\n",
       "    <tr>\n",
       "      <td>housing_median_age</td>\n",
       "      <td>-0.111272</td>\n",
       "      <td>0.013098</td>\n",
       "      <td>1.000000</td>\n",
       "      <td>-0.356534</td>\n",
       "      <td>-0.316644</td>\n",
       "      <td>-0.294652</td>\n",
       "      <td>-0.298702</td>\n",
       "      <td>-0.115736</td>\n",
       "      <td>-0.077163</td>\n",
       "      <td>-0.158539</td>\n",
       "      <td>0.012569</td>\n",
       "    </tr>\n",
       "    <tr>\n",
       "      <td>total_rooms</td>\n",
       "      <td>0.042788</td>\n",
       "      <td>-0.034147</td>\n",
       "      <td>-0.356534</td>\n",
       "      <td>1.000000</td>\n",
       "      <td>0.927454</td>\n",
       "      <td>0.859323</td>\n",
       "      <td>0.916556</td>\n",
       "      <td>0.198486</td>\n",
       "      <td>0.036170</td>\n",
       "      <td>0.146227</td>\n",
       "      <td>-0.031031</td>\n",
       "    </tr>\n",
       "    <tr>\n",
       "      <td>total_bedrooms</td>\n",
       "      <td>0.069305</td>\n",
       "      <td>-0.066424</td>\n",
       "      <td>-0.316644</td>\n",
       "      <td>0.927454</td>\n",
       "      <td>1.000000</td>\n",
       "      <td>0.880929</td>\n",
       "      <td>0.979547</td>\n",
       "      <td>-0.013082</td>\n",
       "      <td>0.054525</td>\n",
       "      <td>0.004237</td>\n",
       "      <td>-0.036556</td>\n",
       "    </tr>\n",
       "    <tr>\n",
       "      <td>population</td>\n",
       "      <td>0.101596</td>\n",
       "      <td>-0.109600</td>\n",
       "      <td>-0.294652</td>\n",
       "      <td>0.859323</td>\n",
       "      <td>0.880929</td>\n",
       "      <td>1.000000</td>\n",
       "      <td>0.910283</td>\n",
       "      <td>-0.001523</td>\n",
       "      <td>-0.062026</td>\n",
       "      <td>-0.072951</td>\n",
       "      <td>0.077684</td>\n",
       "    </tr>\n",
       "    <tr>\n",
       "      <td>households</td>\n",
       "      <td>0.056116</td>\n",
       "      <td>-0.070537</td>\n",
       "      <td>-0.298702</td>\n",
       "      <td>0.916556</td>\n",
       "      <td>0.979547</td>\n",
       "      <td>0.910283</td>\n",
       "      <td>1.000000</td>\n",
       "      <td>0.008033</td>\n",
       "      <td>-0.050050</td>\n",
       "      <td>-0.081950</td>\n",
       "      <td>-0.034892</td>\n",
       "    </tr>\n",
       "    <tr>\n",
       "      <td>median_income</td>\n",
       "      <td>-0.020466</td>\n",
       "      <td>-0.074943</td>\n",
       "      <td>-0.115736</td>\n",
       "      <td>0.198486</td>\n",
       "      <td>-0.013082</td>\n",
       "      <td>-0.001523</td>\n",
       "      <td>0.008033</td>\n",
       "      <td>1.000000</td>\n",
       "      <td>-0.059447</td>\n",
       "      <td>0.350785</td>\n",
       "      <td>0.000417</td>\n",
       "    </tr>\n",
       "    <tr>\n",
       "      <td>average_bedrooms</td>\n",
       "      <td>0.017548</td>\n",
       "      <td>0.062059</td>\n",
       "      <td>-0.077163</td>\n",
       "      <td>0.036170</td>\n",
       "      <td>0.054525</td>\n",
       "      <td>-0.062026</td>\n",
       "      <td>-0.050050</td>\n",
       "      <td>-0.059447</td>\n",
       "      <td>1.000000</td>\n",
       "      <td>0.833841</td>\n",
       "      <td>-0.002194</td>\n",
       "    </tr>\n",
       "    <tr>\n",
       "      <td>average_rooms</td>\n",
       "      <td>-0.027099</td>\n",
       "      <td>0.104294</td>\n",
       "      <td>-0.158539</td>\n",
       "      <td>0.146227</td>\n",
       "      <td>0.004237</td>\n",
       "      <td>-0.072951</td>\n",
       "      <td>-0.081950</td>\n",
       "      <td>0.350785</td>\n",
       "      <td>0.833841</td>\n",
       "      <td>1.000000</td>\n",
       "      <td>0.003475</td>\n",
       "    </tr>\n",
       "    <tr>\n",
       "      <td>average_pop</td>\n",
       "      <td>0.011811</td>\n",
       "      <td>-0.002330</td>\n",
       "      <td>0.012569</td>\n",
       "      <td>-0.031031</td>\n",
       "      <td>-0.036556</td>\n",
       "      <td>0.077684</td>\n",
       "      <td>-0.034892</td>\n",
       "      <td>0.000417</td>\n",
       "      <td>-0.002194</td>\n",
       "      <td>0.003475</td>\n",
       "      <td>1.000000</td>\n",
       "    </tr>\n",
       "  </tbody>\n",
       "</table>\n",
       "</div>"
      ],
      "text/plain": [
       "                    longitude  latitude  housing_median_age  total_rooms  \\\n",
       "longitude            1.000000 -0.925627           -0.111272     0.042788   \n",
       "latitude            -0.925627  1.000000            0.013098    -0.034147   \n",
       "housing_median_age  -0.111272  0.013098            1.000000    -0.356534   \n",
       "total_rooms          0.042788 -0.034147           -0.356534     1.000000   \n",
       "total_bedrooms       0.069305 -0.066424           -0.316644     0.927454   \n",
       "population           0.101596 -0.109600           -0.294652     0.859323   \n",
       "households           0.056116 -0.070537           -0.298702     0.916556   \n",
       "median_income       -0.020466 -0.074943           -0.115736     0.198486   \n",
       "average_bedrooms     0.017548  0.062059           -0.077163     0.036170   \n",
       "average_rooms       -0.027099  0.104294           -0.158539     0.146227   \n",
       "average_pop          0.011811 -0.002330            0.012569    -0.031031   \n",
       "\n",
       "                    total_bedrooms  population  households  median_income  \\\n",
       "longitude                 0.069305    0.101596    0.056116      -0.020466   \n",
       "latitude                 -0.066424   -0.109600   -0.070537      -0.074943   \n",
       "housing_median_age       -0.316644   -0.294652   -0.298702      -0.115736   \n",
       "total_rooms               0.927454    0.859323    0.916556       0.198486   \n",
       "total_bedrooms            1.000000    0.880929    0.979547      -0.013082   \n",
       "population                0.880929    1.000000    0.910283      -0.001523   \n",
       "households                0.979547    0.910283    1.000000       0.008033   \n",
       "median_income            -0.013082   -0.001523    0.008033       1.000000   \n",
       "average_bedrooms          0.054525   -0.062026   -0.050050      -0.059447   \n",
       "average_rooms             0.004237   -0.072951   -0.081950       0.350785   \n",
       "average_pop              -0.036556    0.077684   -0.034892       0.000417   \n",
       "\n",
       "                    average_bedrooms  average_rooms  average_pop  \n",
       "longitude                   0.017548      -0.027099     0.011811  \n",
       "latitude                    0.062059       0.104294    -0.002330  \n",
       "housing_median_age         -0.077163      -0.158539     0.012569  \n",
       "total_rooms                 0.036170       0.146227    -0.031031  \n",
       "total_bedrooms              0.054525       0.004237    -0.036556  \n",
       "population                 -0.062026      -0.072951     0.077684  \n",
       "households                 -0.050050      -0.081950    -0.034892  \n",
       "median_income              -0.059447       0.350785     0.000417  \n",
       "average_bedrooms            1.000000       0.833841    -0.002194  \n",
       "average_rooms               0.833841       1.000000     0.003475  \n",
       "average_pop                -0.002194       0.003475     1.000000  "
      ]
     },
     "execution_count": 73,
     "metadata": {},
     "output_type": "execute_result"
    }
   ],
   "source": [
    "X_train['average_bedrooms'] = X_train['total_bedrooms']/X_train['households']\n",
    "X_train['average_rooms'] = X_train['total_rooms']/X_train['households']\n",
    "X_train['average_pop'] = X_train['population']/X_train['households']\n",
    "\n",
    "X_test['average_bedrooms'] = X_test['total_bedrooms']/X_test['households']\n",
    "X_test['average_rooms'] = X_test['total_rooms']/X_test['households']\n",
    "X_test['average_pop'] = X_test['population']/X_test['households']\n",
    "\n",
    "X_train.corr(method='pearson')"
   ]
  },
  {
   "cell_type": "markdown",
   "metadata": {},
   "source": [
    "Observation: The new variables do not contain a strong correlation with any other variables. The only exception may be avg_bedrooms and avg_rooms but this is expected: as a household has more rooms, it is likely there are more bedrooms as well"
   ]
  },
  {
   "cell_type": "markdown",
   "metadata": {},
   "source": [
    "## (f)"
   ]
  },
  {
   "cell_type": "code",
   "execution_count": 74,
   "metadata": {},
   "outputs": [
    {
     "name": "stdout",
     "output_type": "stream",
     "text": [
      "MAE of MLR3: 50783.974603927876\n"
     ]
    }
   ],
   "source": [
    "MLR3 = linear_model.LinearRegression()\n",
    "MLR3.fit(X_train, Y_train)\n",
    "y_prediction = MLR3.predict(X_test)\n",
    "print('MAE of MLR3:', mean_absolute_error(Y_test, y_prediction))"
   ]
  },
  {
   "cell_type": "markdown",
   "metadata": {},
   "source": [
    "# Question 4: Ridge and Lasso Regression (30 points)\n"
   ]
  },
  {
   "cell_type": "markdown",
   "metadata": {},
   "source": [
    "Using the same data from before, in this question you will explore the application of Lasso and Ridge regression using sklearn package in Python. Use the same train and test data with additional augmented columns from before. Scale the data so that each of the dependent variables have zero mean and unit variance. You can use the [sklearn.preprocessing.scale](https://scikit-learn.org/stable/modules/generated/sklearn.preprocessing.scale.html) function for this."
   ]
  },
  {
   "cell_type": "code",
   "execution_count": 75,
   "metadata": {},
   "outputs": [],
   "source": [
    "from sklearn.linear_model import LinearRegression, Lasso, Ridge, RidgeCV, LassoCV\n",
    "from sklearn.preprocessing import scale\n",
    "\n",
    "X_train = scale(X_train)\n",
    "Y_train = scale(Y_train)\n",
    "X_test = scale(X_test)\n",
    "Y_test = scale(Y_test)"
   ]
  },
  {
   "cell_type": "markdown",
   "metadata": {},
   "source": [
    "1) Use sklearn.linear_model.Lasso and sklearn.linear_model.Ridge classes to do a [5-fold cross validation](http://scikit-learn.org/stable/auto_examples/exercises/plot_cv_diabetes.html#example-exercises-plot-cv-diabetes-py) using sklearn's [KFold](http://scikit-learn.org/stable/modules/generated/sklearn.cross_validation.KFold.html). For the sweep of the regularization parameter, we will look at a grid of values ranging from $\\lambda = 10^{10}$ to $\\lambda = 10^{-2}$. In Python, you can consider this range of values as follows:\n",
    "\n",
    "      import numpy as np\n",
    "\n",
    "      alphas =  10**np.linspace(10,-2,100)*0.5\n",
    "\n",
    "  Report the best chosen $\\lambda$ based on cross validation. The cross validation should happen on your training data using  average MAE as the scoring metric. (8pts)\n",
    "\n",
    "2) Run ridge and lasso for all of the alphas specified above (on training data), and plot the coefficients learned for each of them - there should be one plot each for lasso and ridge, so a total of two plots; the plots for different features for a method should be on the same plot. What do you qualitatively observe when value of the regularization parameter is changed? (7pts)\n",
    "\n",
    "3) Run least squares regression, ridge, and lasso on the training data. For ridge and lasso, use only the best regularization parameter. Report the prediction error (MAE) on the test data for each. (5pts)\n",
    "\n",
    "4) Run lasso again with cross validation using [sklearn.linear_model.LassoCV](http://scikit-learn.org/stable/modules/generated/sklearn.linear_model.LassoCV.html). Set the cross validation parameters as follows:\n",
    "\n",
    "    LassoCV(alphas=None, cv=10, max_iter=10000)\n",
    "\n",
    "Report the best $\\lambda$ based on cross validation. Run lasso on the training data using the best $\\lambda$ and report the coefficeints for all variables. (5pts)\n",
    "\n",
    "5) Why did we have to scale the data before regularization? (5pts)\n",
    "\n",
    "\n",
    "## Answer\n",
    "\n"
   ]
  },
  {
   "cell_type": "markdown",
   "metadata": {},
   "source": [
    "## 1"
   ]
  },
  {
   "cell_type": "code",
   "execution_count": 76,
   "metadata": {},
   "outputs": [
    {
     "name": "stdout",
     "output_type": "stream",
     "text": [
      "Lasso optimal alpha: {'alpha': 0.005}\n",
      "Ridge optimal alpha: {'alpha': 37.823166377731454}\n"
     ]
    }
   ],
   "source": [
    "from sklearn.model_selection import GridSearchCV\n",
    "\n",
    "lasso = Lasso(random_state=0, max_iter=10000)\n",
    "ridge = Ridge(random_state=0, max_iter=10000)\n",
    "alphas =  10**np.linspace(10,-2,100)*0.5\n",
    "tuned_parameters = [{'alpha': alphas}]\n",
    "n_folds = 5\n",
    "\n",
    "lassomodel = GridSearchCV(lasso, tuned_parameters, cv=n_folds, refit=False,\n",
    "                          scoring='neg_mean_absolute_error')\n",
    "lassomodel.fit(X_train, Y_train)\n",
    "print('Lasso optimal alpha:', lassomodel.best_params_)\n",
    "\n",
    "ridgemodel = GridSearchCV(ridge, tuned_parameters, cv=n_folds, refit=False, \n",
    "                          scoring='neg_mean_absolute_error')\n",
    "ridgemodel.fit(X_train, Y_train)\n",
    "print('Ridge optimal alpha:', ridgemodel.best_params_)"
   ]
  },
  {
   "cell_type": "markdown",
   "metadata": {},
   "source": [
    "## 2"
   ]
  },
  {
   "cell_type": "code",
   "execution_count": 77,
   "metadata": {},
   "outputs": [
    {
     "data": {
      "image/png": "[encoded data removed]",
      "text/plain": [
       "<Figure size 432x288 with 1 Axes>"
      ]
     },
     "metadata": {
      "needs_background": "light"
     },
     "output_type": "display_data"
    }
   ],
   "source": [
    "#Plotting ridge coefficents as a function of the regularization\n",
    "import matplotlib.pyplot as plt\n",
    "coefs = []\n",
    "for a in alphas:\n",
    "    ridge = Ridge(alpha=a, fit_intercept=False, random_state=0, max_iter=10000)\n",
    "    ridge.fit(X_train, Y_train)\n",
    "    coefs.append(ridge.coef_)\n",
    "\n",
    "ax = plt.gca()\n",
    "\n",
    "ax.plot(alphas, coefs)\n",
    "ax.set_xscale('log')\n",
    "plt.xlabel('alpha')\n",
    "plt.ylabel('weights')\n",
    "plt.title('Ridge coefficients as a function of the regularization')\n",
    "plt.axis('tight')\n",
    "plt.show()"
   ]
  },
  {
   "cell_type": "code",
   "execution_count": 42,
   "metadata": {},
   "outputs": [
    {
     "data": {
      "image/png": "[encoded data removed]",
      "text/plain": [
       "<Figure size 432x288 with 1 Axes>"
      ]
     },
     "metadata": {
      "needs_background": "light"
     },
     "output_type": "display_data"
    }
   ],
   "source": [
    "#Plotting lasso coefficents as a function of the regularization\n",
    "coefs = []\n",
    "for a in alphas:\n",
    "    lasso = Lasso(alpha=a, fit_intercept=False, random_state=0, max_iter=10000)\n",
    "    lasso.fit(X_train, Y_train)\n",
    "    coefs.append(lasso.coef_)\n",
    "\n",
    "ax = plt.gca()\n",
    "\n",
    "ax.plot(alphas, coefs)\n",
    "ax.set_xscale('log')\n",
    "plt.xlabel('alpha')\n",
    "plt.ylabel('weights')\n",
    "plt.title('Lasso coefficients as a function of the regularization')\n",
    "plt.axis('tight')\n",
    "plt.show()"
   ]
  },
  {
   "cell_type": "markdown",
   "metadata": {},
   "source": [
    "## 3"
   ]
  },
  {
   "cell_type": "code",
   "execution_count": 78,
   "metadata": {},
   "outputs": [
    {
     "name": "stdout",
     "output_type": "stream",
     "text": [
      "Least Squares MAE: 0.44539402729647365\n",
      "LASSO MAE: 0.446886804980724\n",
      "Ridge MAE: 0.4451854342464087\n"
     ]
    }
   ],
   "source": [
    "# Least Squares Regression\n",
    "MLR = linear_model.LinearRegression()\n",
    "MLR.fit(X_train, Y_train)\n",
    "MLRpred = MLR.predict(X_test)\n",
    "print('Least Squares MAE:', mean_absolute_error(Y_test, MLRpred))\n",
    "\n",
    "# Lasso\n",
    "lassoq3 = Lasso(alpha = .005, fit_intercept=False, random_state=0, max_iter=10000)\n",
    "lassoq3.fit(X_train, Y_train)\n",
    "lassopred = lassoq3.predict(X_test)\n",
    "print('LASSO MAE:', mean_absolute_error(Y_test, lassopred))\n",
    "\n",
    "# Ridge\n",
    "ridgeq3 = Ridge(alpha = 37.823166377731454, fit_intercept=False, random_state=0, max_iter=10000)\n",
    "ridgeq3.fit(X_train, Y_train)\n",
    "ridgepred = ridgeq3.predict(X_test)\n",
    "print('Ridge MAE:', mean_absolute_error(Y_test, ridgepred))"
   ]
  },
  {
   "cell_type": "markdown",
   "metadata": {},
   "source": [
    "## 4"
   ]
  },
  {
   "cell_type": "code",
   "execution_count": 79,
   "metadata": {},
   "outputs": [],
   "source": [
    "#Fitting LassoCV\n",
    "lasso_cv = LassoCV(alphas=None, cv=10, max_iter=10000)\n",
    "model = lasso_cv.fit(X_train, Y_train)"
   ]
  },
  {
   "cell_type": "code",
   "execution_count": 80,
   "metadata": {},
   "outputs": [
    {
     "name": "stdout",
     "output_type": "stream",
     "text": [
      "LassoCV alpha obtained: 0.001391436952597119\n"
     ]
    }
   ],
   "source": [
    "#Print the alpha parameter obtained above\n",
    "print('LassoCV alpha obtained:', model.alpha_)"
   ]
  },
  {
   "cell_type": "code",
   "execution_count": 81,
   "metadata": {},
   "outputs": [
    {
     "name": "stdout",
     "output_type": "stream",
     "text": [
      "The LassoCV MAE: 0.4455930348305253\n"
     ]
    }
   ],
   "source": [
    "#Fit lasso using the above alpha and report MAE on Test.\n",
    "lassoq4 = Lasso(alpha = 0.001391436952597119, fit_intercept=False, random_state=0,\n",
    "               max_iter=10000)\n",
    "lassoq4.fit(X_train, Y_train)\n",
    "q4pred = lassoq4.predict(X_test)\n",
    "print('The LassoCV MAE:', mean_absolute_error(Y_test, q4pred))"
   ]
  },
  {
   "cell_type": "markdown",
   "metadata": {},
   "source": [
    "## 5"
   ]
  },
  {
   "cell_type": "markdown",
   "metadata": {},
   "source": [
    "## Answer\n",
    "Because lasso and ridge penalize terms based on the size of the weights we need to scale our data. The shrinking would not be fair otherwise since the optimization problem relies on minimizing the MSE and larger weights by magnitude will contribute to the penalty by a larger than intended amount."
   ]
  },
  {
   "cell_type": "markdown",
   "metadata": {},
   "source": [
    "# Question 5 (5pts)\n",
    "\n",
    "How do you think the performance of your model varies in the train and test set as you increase(decrease) the number of examples in the training dataset? Explain why does it change in a particular way."
   ]
  },
  {
   "cell_type": "markdown",
   "metadata": {},
   "source": [
    "## Answer\n",
    "We expect the training error of the model to be downward sloping; i.e as number of data points increases the model decreases in training error. However, test error is generally U-shaped where we expect test error to decrease to a certain point before increasing again as the number of data points increases.\n",
    "\n",
    "This is because as we increase the number of examples the model will begin to 'overfit'. The model will begin to interpret random noise as a signal. We displayed such an example in our Thursday lecture where a high degree polynomial fits to the data points perfectly, but the curve is too wobbly and thus not indicative of the true data-generating process we expect."
   ]
  }
 ],
 "metadata": {
  "anaconda-cloud": {},
  "kernelspec": {
   "display_name": "Python 3",
   "language": "python",
   "name": "python3"
  },
  "language_info": {
   "codemirror_mode": {
    "name": "ipython",
    "version": 3
   },
   "file_extension": ".py",
   "mimetype": "text/x-python",
   "name": "python",
   "nbconvert_exporter": "python",
   "pygments_lexer": "ipython3",
   "version": "3.6.9"
  }
 },
 "nbformat": 4,
 "nbformat_minor": 1
}
