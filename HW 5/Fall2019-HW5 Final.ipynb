{
 "cells": [
  {
   "cell_type": "markdown",
   "metadata": {},
   "source": [
    "\n",
    "# <p style=\"text-align: center;\">MIS382: Advanced Predictive Modeling</p>\n",
    "# <p style=\"text-align: center;\">Assignment 5</p>\n",
    "## <p style=\"text-align: center;\">Total points: 55</p>\n",
    "## <p style=\"text-align: center;\">Due: Tuesday, December 3rd, submitted via Canvas by 11:59 pm</p>\n",
    "\n",
    "Your homework should be written in a **Jupyter notebook**. You may work in groups of two if you wish. Your partner needs to be from the same section. Only one student per team needs to submit the assignment on Canvas.  But be sure to include name and UTEID for both students.  Homework groups will be created and managed through Canvas, so please do not arbitrarily change your homework group. If you do change, let the TA know. \n",
    "\n",
    "Please ensure that the notebook you have uploaded on Canvas is the correct one, you could download the notebook from Canvas to double check that you have submitted the correct version on your notebook.\n",
    "\n",
    "Also, please make sure your code runs and the graphics (and anything else) are displayed in your notebook before submitting. (%matplotlib inline)"
   ]
  },
  {
   "cell_type": "markdown",
   "metadata": {},
   "source": [
    "### Name(s)\n",
    "1. Edward Eustachon\n",
    "2. Jeremy Friedman"
   ]
  },
  {
   "cell_type": "markdown",
   "metadata": {},
   "source": [
    "# Question 1 - Bayesian Belief Network (15 pts)\n",
    "\n",
    "**Q1.1** (10pts) Consider the Bayes' Net over 4 Random Variables - $D,Z,T1,T2$ with the structure shown below, and joint probability distribution $P(D,Z,T1,T2)$. All the variables are binary with 1 representing \"true/positive\" and 0 representing \"false/negative\". \n",
    "\n",
    "![bayesnetq1.png](bayesnetq1.png)\n",
    "\n",
    "The probabilities are given below:\n",
    "\n",
    "P(D = 1) = 0.1   \n",
    "P(D = 0) = 0.9  \n",
    "\n",
    "P(Z = 1 | D = 1) = 0.7   \n",
    "P(Z = 0 | D = 1) = 0.3  \n",
    "P(Z = 1 | D = 0) = 0.8  \n",
    "P(Z = 0 | D = 0) = 0.2  \n",
    "\n",
    "P(T2 = 1 | D = 1) = 0.7           \n",
    "P(T2 = 0 | D = 1) = 0.3         \n",
    "P(T2 = 1 | D = 0) = 0.5     \n",
    "P(T2 = 0 | D = 0) = 0.5        \n",
    "\n",
    "P(T1 = 1 | D = 1, Z = 1) = 0.9         \n",
    "P(T1 = 0 | D = 1, Z = 1) = 0.1          \n",
    "P(T1 = 1 | D = 1, Z = 0) = 0.8             \n",
    "P(T1 = 0 | D = 1, Z = 0) = 0.2            \n",
    "P(T1 = 1 | D = 0, Z = 1) = 0.6           \n",
    "P(T1 = 0 | D = 0, Z = 1) = 0.4          \n",
    "P(T1 = 1 | D = 0, Z = 0) = 0.1         \n",
    "P(T1 = 0 | D = 0, Z = 0) = 0.9            \n",
    "\n",
    "\n",
    "a.(4pts) What is the probability of having disease D(D=1) and getting a positive result on test T1(T1=1)?   \n",
    "b.(3pts) What is the probability of not having disease D(D=0) and getting a positive result on test T1(T1=1)?   \n",
    "c.(3pts) What is the probability of having disease D given a positive result on test T1?   \n"
   ]
  },
  {
   "cell_type": "markdown",
   "metadata": {},
   "source": [
    "#### Answer:\n",
    "\n",
    "a. P(T1=1 ∩ D=1) = (P(T1=1|D=1,Z=1) * P(Z=1|D=1) * P(D=1)) + (P(T1=1|D=1,Z=0) * P(Z=0|D=1) * P(D=1))\n",
    "\n",
    "8.7%\n",
    "\n",
    "b. P(T1=1 ∩ D=0) = (P(T1=1|D=0,Z=1) * P(Z=1|D=0) * P(D=0)) + (P(T1=1|D=0,Z=0) * P(Z=0|D=0) * P(D=0))\n",
    "   \n",
    "45%\n",
    "\n",
    "c. P(D=1|T=1) = P(T1=1 ∩ D=1) / (P(T1=1 ∩ D=1) + P(T1=1 ∩ D=0))\n",
    "   \n",
    "16.20%"
   ]
  },
  {
   "cell_type": "markdown",
   "metadata": {},
   "source": [
    "**Q1.2**(5pts) Draw a Bayesian Network with these Random Variables - $A, B, C, D, E, F, G, H$ whose joint distribution corresponds to -\n",
    "$P(A | B,C,E) P(B | D,E) P(C | F,H) P(D | G) P(E| G,H) P(F | H) P(G) P(H)$"
   ]
  },
  {
   "cell_type": "markdown",
   "metadata": {},
   "source": [
    "#### Answer:\n",
    "![q1.2.jpg](q1.2.jpg)"
   ]
  },
  {
   "cell_type": "markdown",
   "metadata": {},
   "source": [
    "# Question 2 - K-Nearest Neighbours and Ensemble (40pts)\n",
    "\n",
    "In this problem, we will continue with the Churn Prediction from the last homework. You can reuse the code for pipelines which we have provided. The data has been split into train and validation sets; please do not change this.\n",
    "\n",
    "\n",
    "1. Build K-Nearest Neighbours (KNN) models with different values of k ranging from 2 to 50. Plot how the train and validation AUROC varies with k. Report the best AUROC on the validation set and the corresponding value of k. (10 pts)\n",
    "\n",
    "    We will reuse the Naive Bayes and Logistic regression models from the previous homework.\n",
    "    \n",
    "2. Ensemble the KNN model which obtains the best AUROC on the validation set with a Naive Bayes and Logistic regression model (with parameter class_weight='balanced') by averaging the posterior probabilities. Report the validation AUROC and F1 score. (5 pts)\n",
    "\n",
    "3. Ensemble the KNN model which obtains the best AUROC on the validation set with a Naive Bayes and Logistic regression model (with parameter class_weight='balanced') by taking a majority vote. Report the validation F1 score. Explain why we cannot compute the AUROC in this setting. (5 pts)\n",
    "\n",
    "    We will now compare [Random Forest](http://scikit-learn.org/stable/modules/generated/sklearn.ensemble.RandomForestClassifier.html), [Gradient Boosting Decision Tree](http://scikit-learn.org/stable/modules/generated/sklearn.ensemble.GradientBoostingClassifier.html) (GBDT), and [AdaBoost](http://scikit-learn.org/stable/modules/generated/sklearn.ensemble.AdaBoostClassifier.html#sklearn.ensemble.AdaBoostClassifier). \n",
    "    \n",
    "4. Use a [Random Forest](http://scikit-learn.org/stable/modules/generated/sklearn.ensemble.RandomForestClassifier.html) to classify the data. Find the best parameters (including *n_estimators*, *max_features* and *criterion*) using [GridSearchCV](http://scikit-learn.org/stable/modules/generated/sklearn.model_selection.GridSearchCV.html). Report the optimal parameters obtained by GridSearch. Report the confusion matrix  and [roc_auc_score](http://scikit-learn.org/stable/modules/generated/sklearn.metrics.roc_auc_score.html#sklearn.metrics.roc_auc_score) on validation data. Plot the feature importance as well. (5pts)\n",
    "5. Use [Gradient Boosting Decision Tree](http://scikit-learn.org/stable/modules/generated/sklearn.ensemble.GradientBoostingClassifier.html) (GBDT), and [AdaBoost](http://scikit-learn.org/stable/modules/generated/sklearn.ensemble.AdaBoostClassifier.html#sklearn.ensemble.AdaBoostClassifier) for this problem. Again, find the best parameters (including *n_estimators, learning_rate,* and *max_depth (GBDT only)*), and report the confusion matrix and roc_auc_score on test data for each classifier. Also, plot the feature importance for each classifier. (10pts)\n",
    "6. Point out one advantage and one disadvantage of Random Forest compared to GBDT. (5pts)"
   ]
  },
  {
   "cell_type": "code",
   "execution_count": 25,
   "metadata": {},
   "outputs": [],
   "source": [
    "import pandas as pd\n",
    "from sklearn.model_selection import train_test_split\n",
    "from sklearn.metrics import roc_auc_score, f1_score\n",
    "from sklearn.naive_bayes import GaussianNB\n",
    "from sklearn.linear_model import LogisticRegression\n",
    "from sklearn.neighbors import KNeighborsClassifier as knn\n",
    "from sklearn.ensemble import RandomForestClassifier,\\\n",
    "GradientBoostingClassifier,AdaBoostClassifier\n",
    "from sklearn.model_selection import GridSearchCV\n",
    "from sklearn.metrics import confusion_matrix\n",
    "from sklearn.ensemble import VotingClassifier\n",
    "import numpy as np\n",
    "import matplotlib.pyplot as plt\n",
    "from sklearn.pipeline import Pipeline, FeatureUnion\n",
    "import warnings\n",
    "warnings.filterwarnings('ignore')\n",
    "from sklearn.base import BaseEstimator, TransformerMixin\n",
    "\n",
    "class OneHotEncoder(BaseEstimator, TransformerMixin):\n",
    "    \n",
    "    def __init__(self,col):\n",
    "        self.col = col\n",
    "                \n",
    "    def transform(self, X):\n",
    "        return pd.get_dummies(X[self.col]) \n",
    "\n",
    "    def fit(self, X, y=None):\n",
    "        return self  \n",
    "    \n",
    "    def get_feature_names(self):\n",
    "        return list((self.unique,self.string))\n",
    "    \n",
    "# Stateless transformer for selecting a specified columns\n",
    "class DFSubsetSelector(BaseEstimator,TransformerMixin):\n",
    "    \n",
    "    def __init__(self,cols):\n",
    "        self.cols = cols\n",
    "        \n",
    "    def transform(self ,X):\n",
    "        return X[self.cols]\n",
    "    \n",
    "    def fit(self, X, y=None):\n",
    "        return self\n",
    "    \n",
    "class ConcatFeatures(BaseEstimator, TransformerMixin):\n",
    "    \n",
    "    def __init__(self,cols,sep=\"_\"):\n",
    "        self.cols = cols\n",
    "        self.sep = sep\n",
    "                \n",
    "    def transform(self, X):\n",
    "        concat_col = self.sep.join(self.cols)\n",
    "        return X.apply(lambda x : self.sep.join([x[col] for col in self.cols]) ,axis=1).to_frame(name = concat_col)\n",
    "\n",
    "    def fit(self, X, y=None):\n",
    "        return self  \n",
    "    \n",
    "# Transformer that does min-max transform on the specified columns\n",
    "class MinMaxTransform(BaseEstimator, TransformerMixin):\n",
    "\n",
    "    def __init__(self,cols=None):\n",
    "        self.cols = cols\n",
    "        self.minVec = np.zeros(len(cols))\n",
    "        self.maxVec = np.zeros(len(cols))\n",
    "       \n",
    "    def transform(self, X):\n",
    "        X[self.cols] = ((X[self.cols] - self.minVec)/(self.maxVec-self.minVec))\n",
    "        return X\n",
    "\n",
    "    def fit(self, X, y=None):\n",
    "        self.minVec = (df_train[self.cols].min())\n",
    "        self.maxVec = (df_train[self.cols].max())\n",
    "        return self\n",
    "    \n",
    "    def get_feature_names(self):\n",
    "        return list((self.unique,self.string))\n",
    "    \n",
    "df = pd.read_csv('hw5.csv', delimiter=',')\n",
    "\n",
    "#DO NOT CHANGE THIS\n",
    "df_train = df.sample(frac=0.8,random_state=11)\n",
    "df_val = df.drop(df_train.index)\n",
    "\n",
    "X_train = df_train.drop(['Exited'],axis=1)\n",
    "y_train = df_train['Exited']\n",
    "X_val= df_val.drop(['Exited'],axis=1)\n",
    "y_val = df_val['Exited']\n",
    "\n",
    "continuous_vars = ['CreditScore','Age','Tenure','Balance','NumOfProducts','EstimatedSalary']\n",
    "cat_vars = ['HasCrCard','IsActiveMember',\"Geography\", \"Gender\"] \n",
    "\n",
    "#building the data-processing pipeline\n",
    "categorical_feature_pipeline = Pipeline([\n",
    "                                       ('categorical_selector' ,DFSubsetSelector(cat_vars)),\n",
    "                                        ('onehot',OneHotEncoder(cat_vars))])\n",
    "numerical_feature_pipeline = Pipeline([\n",
    "                                       ('numerical_selector' ,DFSubsetSelector(continuous_vars)),\n",
    "                                        ('normalization',MinMaxTransform(continuous_vars))])\n",
    "all_feature_preprocessor= FeatureUnion(transformer_list=[('numerical_preprocessor', numerical_feature_pipeline),\n",
    "                                                      ('categorical_preprocessor', categorical_feature_pipeline)])"
   ]
  },
  {
   "cell_type": "markdown",
   "metadata": {},
   "source": [
    "#### Answer"
   ]
  },
  {
   "cell_type": "markdown",
   "metadata": {},
   "source": [
    "#### (1)"
   ]
  },
  {
   "cell_type": "code",
   "execution_count": 3,
   "metadata": {},
   "outputs": [],
   "source": [
    "valAUROC = []\n",
    "trainAUROC = []\n",
    "\n",
    "for i in range(2,51):\n",
    "    KNN = Pipeline(\n",
    "        steps=[('preprocessor', all_feature_preprocessor), ('classifier', knn(n_neighbors=i))])\n",
    "    KNN.fit(X_train, y_train)\n",
    "    \n",
    "    val_pred = KNN.predict_proba(X_val)[:,1]\n",
    "    valAUROC.append(roc_auc_score(y_val, val_pred))\n",
    "    \n",
    "    train_pred = KNN.predict_proba(X_train)[:,1]\n",
    "    trainAUROC.append(roc_auc_score(y_train, train_pred))"
   ]
  },
  {
   "cell_type": "code",
   "execution_count": 4,
   "metadata": {},
   "outputs": [
    {
     "name": "stdout",
     "output_type": "stream",
     "text": [
      "Best Validation AUROC: 0.8205577703831526\n",
      "Best number of neighbors: 18\n"
     ]
    }
   ],
   "source": [
    "print('Best Validation AUROC:', max(valAUROC))\n",
    "print('Best number of neighbors:', valAUROC.index(max(valAUROC))+2)"
   ]
  },
  {
   "cell_type": "code",
   "execution_count": 5,
   "metadata": {},
   "outputs": [
    {
     "data": {
      "image/png": "[encoded data removed]",
      "text/plain": [
       "<Figure size 432x288 with 1 Axes>"
      ]
     },
     "metadata": {
      "needs_background": "light"
     },
     "output_type": "display_data"
    }
   ],
   "source": [
    "plt.figure()\n",
    "plt.title('Training and Validation AUROC Scores as function of K')\n",
    "\n",
    "plt.plot(trainAUROC, label='Train AUROC')\n",
    "plt.plot(valAUROC, label='Validation AUROC')\n",
    "\n",
    "plt.legend(loc='best')\n",
    "plt.ylabel('AUROC Score')\n",
    "plt.xlabel('Number of Neighbors')\n",
    "\n",
    "plt.show()"
   ]
  },
  {
   "cell_type": "markdown",
   "metadata": {},
   "source": [
    "#### (2)"
   ]
  },
  {
   "cell_type": "code",
   "execution_count": 6,
   "metadata": {},
   "outputs": [
    {
     "name": "stdout",
     "output_type": "stream",
     "text": [
      "Ensemble 1 AUROC Score: 0.8404805387599915\n",
      "Ensemble 1 F1 Score: 0.5235294117647059\n"
     ]
    }
   ],
   "source": [
    "KNNbest = Pipeline(\n",
    "        steps=[('preprocessor', all_feature_preprocessor), ('classifier', knn(n_neighbors=18))])\n",
    "logistic = Pipeline(steps=[\n",
    "    ('preprocessor', all_feature_preprocessor), \n",
    "    ('classifier', LogisticRegression(class_weight='balanced'))])\n",
    "bayes = Pipeline(steps=[\n",
    "    ('preprocessor', all_feature_preprocessor), ('classifier', GaussianNB())])\n",
    "\n",
    "ensemble1 = VotingClassifier(estimators=[\n",
    "    ('lr', logistic), ('knn', KNNbest), ('gnb', bayes)], voting='soft')\n",
    "ensemble1.fit(X_train, y_train)\n",
    "\n",
    "print('Ensemble 1 AUROC Score:', roc_auc_score(y_val, ensemble1.predict_proba(X_val)[:,1]))\n",
    "print('Ensemble 1 F1 Score:', f1_score(y_val, ensemble1.predict(X_val)))"
   ]
  },
  {
   "cell_type": "markdown",
   "metadata": {},
   "source": [
    "#### (3)"
   ]
  },
  {
   "cell_type": "code",
   "execution_count": 7,
   "metadata": {},
   "outputs": [
    {
     "name": "stdout",
     "output_type": "stream",
     "text": [
      "Ensemble 2 F1 Score: 0.486646884272997\n"
     ]
    }
   ],
   "source": [
    "ensemble2 = VotingClassifier(estimators=[\n",
    "    ('lr', logistic), ('knn', KNNbest), ('gnb', bayes)])\n",
    "ensemble2.fit(X_train, y_train)\n",
    "print('Ensemble 2 F1 Score:', f1_score(y_val, ensemble2.predict(X_val)))"
   ]
  },
  {
   "cell_type": "markdown",
   "metadata": {},
   "source": [
    "#### We cannot compare AUC scores because this ensemble assigns class labels based on the majority label from our individual models rather than predicting the probabilities the observation may belong to either of the classes"
   ]
  },
  {
   "cell_type": "markdown",
   "metadata": {},
   "source": [
    "#### (4)"
   ]
  },
  {
   "cell_type": "code",
   "execution_count": 8,
   "metadata": {},
   "outputs": [],
   "source": [
    "RFpipe = Pipeline(steps=[\n",
    "    ('preprocessor', all_feature_preprocessor),\n",
    "    ('clf', RandomForestClassifier())])\n",
    "\n",
    "param_grid = [{\n",
    "    'clf__n_estimators': [10, 20, 50, 100, 500, 1000],\n",
    "    'clf__max_features': ['auto', 'log2', 10],\n",
    "    'clf__criterion': ['gini', 'entropy']\n",
    "}]\n",
    "\n",
    "RFclf = GridSearchCV(RFpipe, param_grid, n_jobs=-1, cv=3, verbose=3)"
   ]
  },
  {
   "cell_type": "code",
   "execution_count": 11,
   "metadata": {},
   "outputs": [
    {
     "name": "stdout",
     "output_type": "stream",
     "text": [
      "Fitting 3 folds for each of 36 candidates, totalling 108 fits\n"
     ]
    },
    {
     "name": "stderr",
     "output_type": "stream",
     "text": [
      "[Parallel(n_jobs=-1)]: Using backend LokyBackend with 8 concurrent workers.\n",
      "[Parallel(n_jobs=-1)]: Done  20 tasks      | elapsed:    2.7s\n",
      "[Parallel(n_jobs=-1)]: Done 108 out of 108 | elapsed:  1.4min finished\n"
     ]
    },
    {
     "name": "stdout",
     "output_type": "stream",
     "text": [
      "{'clf__criterion': 'entropy', 'clf__max_features': 'log2', 'clf__n_estimators': 1000}\n"
     ]
    }
   ],
   "source": [
    "RFclf.fit(X_train, y_train)\n",
    "print(RFclf.best_params_)"
   ]
  },
  {
   "cell_type": "code",
   "execution_count": 13,
   "metadata": {},
   "outputs": [
    {
     "name": "stdout",
     "output_type": "stream",
     "text": [
      "AUC Score: 0.8853098190351081\n",
      "[[1538   49]\n",
      " [ 206  207]]\n"
     ]
    }
   ],
   "source": [
    "bestRF = Pipeline(steps=[\n",
    "    ('preprocessor', all_feature_preprocessor),\n",
    "    ('clf', RandomForestClassifier(n_estimators=1000, max_features='log2', criterion='entropy'))])\n",
    "bestRF.fit(X_train, y_train)\n",
    "\n",
    "val_pred = bestRF.predict(X_val)\n",
    "val_prob = bestRF.predict_proba(X_val)[:,1]\n",
    "\n",
    "confmat = confusion_matrix(y_val, val_pred)\n",
    "\n",
    "print('AUC Score:', roc_auc_score(y_val, val_prob))\n",
    "print(confmat)"
   ]
  },
  {
   "cell_type": "code",
   "execution_count": 37,
   "metadata": {},
   "outputs": [
    {
     "data": {
      "image/png": "[encoded data removed]",
      "text/plain": [
       "<Figure size 432x288 with 1 Axes>"
      ]
     },
     "metadata": {
      "needs_background": "light"
     },
     "output_type": "display_data"
    }
   ],
   "source": [
    "importance = bestRF.named_steps.clf.feature_importances_\n",
    "index = np.argsort(importance)\n",
    "plt.title('Feature Importances')\n",
    "plt.barh(range(index.shape[0]), importance[index], color='b', align='center')\n",
    "plt.yticks(range(index.shape[0]), index)\n",
    "plt.xlabel('Relative Importance')\n",
    "plt.show()"
   ]
  },
  {
   "cell_type": "markdown",
   "metadata": {},
   "source": [
    "#### (5)"
   ]
  },
  {
   "cell_type": "markdown",
   "metadata": {},
   "source": [
    "# GBDT"
   ]
  },
  {
   "cell_type": "code",
   "execution_count": 32,
   "metadata": {},
   "outputs": [
    {
     "name": "stdout",
     "output_type": "stream",
     "text": [
      "Fitting 3 folds for each of 36 candidates, totalling 108 fits\n"
     ]
    },
    {
     "name": "stderr",
     "output_type": "stream",
     "text": [
      "[Parallel(n_jobs=-1)]: Using backend LokyBackend with 8 concurrent workers.\n",
      "[Parallel(n_jobs=-1)]: Done  16 tasks      | elapsed:   32.2s\n",
      "[Parallel(n_jobs=-1)]: Done 108 out of 108 | elapsed:  2.3min finished\n"
     ]
    },
    {
     "name": "stdout",
     "output_type": "stream",
     "text": [
      "{'classifier__learning_rate': 0.1, 'classifier__max_depth': 5, 'classifier__n_estimators': 50}\n"
     ]
    }
   ],
   "source": [
    "GBDT = Pipeline(steps=[('preprocessor', all_feature_preprocessor),\n",
    "                          ('classifier', GradientBoostingClassifier())])\n",
    "\n",
    "param_grid = {'classifier__n_estimators': [50, 250, 500, 1000],\n",
    "              'classifier__learning_rate': [0.01, 0.1, 0.3, 0.5],\n",
    "              'classifier__max_depth': [5, 10, 15]}\n",
    "\n",
    "GBDT_grid = GridSearchCV(GBDT, param_grid, n_jobs=-1, cv=3, verbose=3)\n",
    "GBDT_grid.fit(X_train, y_train)\n",
    "print(GBDT_grid.best_params_)"
   ]
  },
  {
   "cell_type": "code",
   "execution_count": 33,
   "metadata": {},
   "outputs": [
    {
     "name": "stdout",
     "output_type": "stream",
     "text": [
      "AUC Score: 0.897295825189837\n",
      "[[1539   48]\n",
      " [ 207  206]]\n"
     ]
    }
   ],
   "source": [
    "bestGBDT = Pipeline(steps=\n",
    "                    [('preprocessor', all_feature_preprocessor),\n",
    "                    ('classifier', GradientBoostingClassifier(n_estimators=50, \n",
    "                                                              max_depth=5,\n",
    "                                                              learning_rate=0.1))])\n",
    "\n",
    "bestGBDT.fit(X_train, y_train)\n",
    "val_pred = bestGBDT.predict(X_val)\n",
    "val_prob = bestGBDT.predict_proba(X_val)[:,1]\n",
    "\n",
    "confmat = confusion_matrix(y_val, val_pred)\n",
    "\n",
    "print('AUC Score:', roc_auc_score(y_val, val_prob))\n",
    "print(confmat)"
   ]
  },
  {
   "cell_type": "code",
   "execution_count": 36,
   "metadata": {},
   "outputs": [
    {
     "data": {
      "image/png": "[encoded data removed]",
      "text/plain": [
       "<Figure size 432x288 with 1 Axes>"
      ]
     },
     "metadata": {
      "needs_background": "light"
     },
     "output_type": "display_data"
    }
   ],
   "source": [
    "importance = bestGBDT.named_steps.classifier.feature_importances_\n",
    "index = np.argsort(importance)\n",
    "plt.title('Feature Importances')\n",
    "plt.barh(range(index.shape[0]), importance[index], color='b', align='center')\n",
    "plt.yticks(range(index.shape[0]), index)\n",
    "plt.xlabel('Relative Importance')\n",
    "plt.show()"
   ]
  },
  {
   "cell_type": "markdown",
   "metadata": {},
   "source": [
    "# AdaBoost"
   ]
  },
  {
   "cell_type": "code",
   "execution_count": 38,
   "metadata": {},
   "outputs": [
    {
     "name": "stdout",
     "output_type": "stream",
     "text": [
      "Fitting 3 folds for each of 16 candidates, totalling 48 fits\n"
     ]
    },
    {
     "name": "stderr",
     "output_type": "stream",
     "text": [
      "[Parallel(n_jobs=-1)]: Using backend LokyBackend with 8 concurrent workers.\n",
      "[Parallel(n_jobs=-1)]: Done  16 tasks      | elapsed:   10.9s\n",
      "[Parallel(n_jobs=-1)]: Done  48 out of  48 | elapsed:   29.3s finished\n"
     ]
    },
    {
     "name": "stdout",
     "output_type": "stream",
     "text": [
      "{'classifier__learning_rate': 0.1, 'classifier__n_estimators': 250}\n"
     ]
    }
   ],
   "source": [
    "AdaBoost = Pipeline(steps=[('preprocessor', all_feature_preprocessor),\n",
    "                          ('classifier', AdaBoostClassifier())])\n",
    "param_grid = {'classifier__n_estimators': [50, 250, 500, 1000],\n",
    "              'classifier__learning_rate': [0.01, 0.1, 0.3, 0.5]}\n",
    "\n",
    "AdaBoost_grid = GridSearchCV(estimator=AdaBoost, param_grid=param_grid, \n",
    "                             cv=3, n_jobs=-1, verbose=3)\n",
    "AdaBoost_grid.fit(X_train,y_train)\n",
    "print(AdaBoost_grid.best_params_)"
   ]
  },
  {
   "cell_type": "code",
   "execution_count": 39,
   "metadata": {},
   "outputs": [
    {
     "name": "stdout",
     "output_type": "stream",
     "text": [
      "AUC Score: 0.8734466328263386\n",
      "[[1530   57]\n",
      " [ 218  195]]\n"
     ]
    }
   ],
   "source": [
    "bestADA = Pipeline(steps=\n",
    "                   [('preprocessor', all_feature_preprocessor),\n",
    "                    ('classifier', AdaBoostClassifier(n_estimators=250, learning_rate=0.1))])\n",
    "\n",
    "bestADA.fit(X_train, y_train)\n",
    "val_pred = bestADA.predict(X_val)\n",
    "val_prob = bestADA.predict_proba(X_val)[:,1]\n",
    "\n",
    "confmat = confusion_matrix(y_val, val_pred)\n",
    "\n",
    "print('AUC Score:', roc_auc_score(y_val, val_prob))\n",
    "print(confmat)"
   ]
  },
  {
   "cell_type": "code",
   "execution_count": 40,
   "metadata": {},
   "outputs": [
    {
     "data": {
      "image/png": "[encoded data removed]",
      "text/plain": [
       "<Figure size 432x288 with 1 Axes>"
      ]
     },
     "metadata": {
      "needs_background": "light"
     },
     "output_type": "display_data"
    }
   ],
   "source": [
    "importance = bestADA.named_steps.classifier.feature_importances_\n",
    "index = np.argsort(importance)\n",
    "plt.title('Feature Importances')\n",
    "plt.barh(range(index.shape[0]), importance[index], color='b', align='center')\n",
    "plt.yticks(range(index.shape[0]), index)\n",
    "plt.xlabel('Relative Importance')\n",
    "plt.show()"
   ]
  },
  {
   "cell_type": "markdown",
   "metadata": {},
   "source": [
    "#### (6)"
   ]
  },
  {
   "cell_type": "markdown",
   "metadata": {},
   "source": [
    "One advantage of Random Forest over GBDT is that it reduces correlation among bagged trees. One disadvantage is that Random Forest generally returns a larger error than GBDT."
   ]
  },
  {
   "cell_type": "code",
   "execution_count": null,
   "metadata": {},
   "outputs": [],
   "source": []
  }
 ],
 "metadata": {
  "kernelspec": {
   "display_name": "Python 3",
   "language": "python",
   "name": "python3"
  },
  "language_info": {
   "codemirror_mode": {
    "name": "ipython",
    "version": 3
   },
   "file_extension": ".py",
   "mimetype": "text/x-python",
   "name": "python",
   "nbconvert_exporter": "python",
   "pygments_lexer": "ipython3",
   "version": "3.7.4"
  }
 },
 "nbformat": 4,
 "nbformat_minor": 4
}
